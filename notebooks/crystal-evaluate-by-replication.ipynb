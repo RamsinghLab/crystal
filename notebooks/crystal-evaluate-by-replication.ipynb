{
 "metadata": {
  "name": "",
  "signature": "sha256:513f9c591ee8d812f05ec72710882252b64be4ddff50cc09814d7465c4130805"
 },
 "nbformat": 3,
 "nbformat_minor": 0,
 "worksheets": [
  {
   "cells": [
    {
     "cell_type": "markdown",
     "metadata": {},
     "source": [
      "Evaluation\n",
      "==========\n",
      "\n",
      "In this document, we evaluate the above methods on a real dataset. We also create data that should serve as true-negatives by shuffling the observed data. In this way, we can evaluate sensitivity by the number of DMR's found for a given $\\alpha$ by the number of DMR's that meet that cutoff in the real dataset. Likewise, we can evaluate the specificity (actually the false positives) by finding the number of DMR's that meet a given cutoff in the shuffled data."
     ]
    },
    {
     "cell_type": "code",
     "collapsed": false,
     "input": [
      "%matplotlib inline\n",
      "\n",
      "import toolshed as ts\n",
      "import itertools as it\n",
      "import numpy as np\n",
      "import pandas as pd\n",
      "import seaborn as sns\n",
      "import matplotlib.pyplot as plt\n",
      "\n",
      "sns.set(style=\"white\", context=\"talk\")\n",
      "colors = sns.color_palette(\"Set1\", 8)\n",
      "pool = ts.pool()\n",
      "\n",
      "import crystal\n",
      "from aclust import mclust # to create correlated clusters"
     ],
     "language": "python",
     "metadata": {},
     "outputs": []
    },
    {
     "cell_type": "markdown",
     "metadata": {},
     "source": [
      "We need a generator that reads data and generates features to sent to aclust"
     ]
    },
    {
     "cell_type": "code",
     "collapsed": false,
     "input": [
      "def feature_gen(fname, samples, logit=True):\n",
      "    for i, d in enumerate(ts.reader(fname, header=True)):\n",
      "        chrom, pos = d['probe'].split(\":\")\n",
      "        values = np.array([float(d[s]) for s in samples])\n",
      "        yield crystal.Feature(chrom, int(pos), crystal.logit(values) if logit else values)"
     ],
     "language": "python",
     "metadata": {},
     "outputs": []
    },
    {
     "cell_type": "markdown",
     "metadata": {},
     "source": [
      "Now we need to define our model and read in our covariates. First, we want to test 6 vs 6 (male vs female)."
     ]
    },
    {
     "cell_type": "code",
     "collapsed": false,
     "input": [
      "methylation_file = \"d0-450K-12.meth.txt.gz\"\n",
      "covariates_file = \"d0-450K-12.covariates.csv\"\n",
      "np.random.seed(42)\n",
      "\n",
      "covs = pd.read_csv(covariates_file, index_col=0)"
     ],
     "language": "python",
     "metadata": {},
     "outputs": []
    },
    {
     "cell_type": "markdown",
     "metadata": {},
     "source": [
      "Our input data is a methylation matrix (rows of probes and columns of samples). Here, we have encoded the position into the row names, but you can also add these on the fly as you stream over the data."
     ]
    },
    {
     "cell_type": "code",
     "collapsed": false,
     "input": [
      "# a function to restart the cluster generation each time.\n",
      "def get_cluster_iter(samples, fmeth, min_len=3, logit=True):\n",
      "    return (c for c in mclust(feature_gen(fmeth, samples, logit=logit),\n",
      "                              max_dist=300, max_skip=0) if len(c) >= min_len)"
     ],
     "language": "python",
     "metadata": {},
     "outputs": []
    },
    {
     "cell_type": "markdown",
     "metadata": {},
     "source": [
      "Mclust returns an iterator of clusters given an iterator of features. The clusters are have correlated methylation. The clustering is done without knowing the study design so it is unbiased.\n",
      "\n",
      "Each cluster is a list of features from your own feature_gen()"
     ]
    },
    {
     "cell_type": "code",
     "collapsed": false,
     "input": [
      "c = next(get_cluster_iter(covs.index, methylation_file))\n",
      "assert len(c[0].values) == 12, len(c[0].values)\n",
      "[repr(f) for f in c] "
     ],
     "language": "python",
     "metadata": {},
     "outputs": []
    },
    {
     "cell_type": "code",
     "collapsed": false,
     "input": [
      "print covs.gender.value_counts()\n",
      "covs.head()"
     ],
     "language": "python",
     "metadata": {},
     "outputs": []
    },
    {
     "cell_type": "markdown",
     "metadata": {},
     "source": [
      "Our analysis will be looking for DMRs related to gender we run a number of methods, repeat some under robust regression, and the evaluate the results:"
     ]
    },
    {
     "cell_type": "code",
     "collapsed": false,
     "input": [
      "clusters = list(get_cluster_iter(covs.index, methylation_file, 1))"
     ],
     "language": "python",
     "metadata": {},
     "outputs": []
    },
    {
     "cell_type": "markdown",
     "metadata": {},
     "source": [
      "# Evaluate On Replication\n",
      "\n",
      "Now we will evaluate performance using the continuous variable 'age' by using a discovery and validation cohort randomly drawn from the full dataset. We will create the plots as above using sites that replicate in the validation as 'true' positives and sites that do not as 'false' positives. There are some issues with that interpretation in the context of an ROC analysis, but it is an informative metric because we often are interested in sites that will replicate across cohorts.\n",
      "\n",
      "First, we model the original clusters and find sites related to age:"
     ]
    },
    {
     "cell_type": "code",
     "collapsed": false,
     "input": [
      "formula_base = \"methylation ~ age + gender\"\n",
      "formula_cpg = formula_base + \" + CpG\"\n",
      "coef = 'age'\n",
      "\n",
      "labels = ['zscore', 'zscore beta', 'gee', 'mixed-model']\n",
      "\n",
      "age_modeled = [list(crystal.model_clusters(clusters, covs, formula, coef, fn, pool=pool, **kwargs))\n",
      "             for fn, formula, kwargs in [\n",
      "                  (crystal.zscore_cluster, formula_base, {}),\n",
      "                  #(crystal.zscore_cluster, formula_base, dict(method=crystal.RLM)),\n",
      "                  (crystal.zscore_cluster, formula_base, dict(method=crystal.Beta, transform=crystal.ilogit)),\n",
      "\n",
      "                  (crystal.gee_cluster, formula_cpg, {}),\n",
      "                  #(crystal.gee_cluster, formula_cpg, dict(cov_struct=Independence())),\n",
      "                  #(crystal.ols_cluster_robust, formula_cpg, {}),\n",
      "                  (crystal.mixed_model_cluster, formula_cpg, {})\n",
      " \n",
      "           ]]"
     ],
     "language": "python",
     "metadata": {},
     "outputs": []
    },
    {
     "cell_type": "markdown",
     "metadata": {},
     "source": [
      "Then, we write those regions to a file; we will want to replicate sites with p < 1e-3."
     ]
    },
    {
     "cell_type": "code",
     "collapsed": false,
     "input": [
      "from crystal.evaluate import write_modeled_regions        \n",
      "region_files = []        \n",
      "for label, method in zip(labels, age_modeled):\n",
      "    out_fh = open('/tmp/%s.regions.bed' % label.replace(' ', '-'), 'w')\n",
      "    write_modeled_regions(method, 1e-3, out_fh)\n",
      "    region_files.append(out_fh.name)\n",
      "    out_fh.close()"
     ],
     "language": "python",
     "metadata": {},
     "outputs": []
    },
    {
     "cell_type": "code",
     "collapsed": false,
     "input": [
      "rmethylation_file = \"v0-450K-12.meth.txt.gz\"\n",
      "rcovariates_file = \"v0-450K-12.covariates.csv\"\n",
      "\n",
      "rcovs = pd.read_csv(rcovariates_file, index_col=0)\n",
      "\n",
      "replication_clusters = list(get_cluster_iter(rcovs.index, rmethylation_file))"
     ],
     "language": "python",
     "metadata": {},
     "outputs": []
    },
    {
     "cell_type": "code",
     "collapsed": false,
     "input": [
      "labels = ['zscore', 'gee', 'mixed-model']\n",
      "age_replicated = [list(crystal.model_clusters(replication_clusters, rcovs, formula, coef, fn, pool=pool, **kwargs))\n",
      "             for fn, formula, kwargs in [\n",
      "                  (crystal.zscore_cluster, formula_base, {}),\n",
      "                  (crystal.gee_cluster, formula_cpg, {}),\n",
      "                  (crystal.mixed_model_cluster, formula_cpg, {})\n",
      "           ]]"
     ],
     "language": "python",
     "metadata": {},
     "outputs": []
    },
    {
     "cell_type": "code",
     "collapsed": false,
     "input": [
      "from crystal.evaluate import evaluate, cluster_bediter\n",
      "fig, ax = plt.subplots(1)\n",
      "\n",
      "# first do a simple transform to make use of the regions function\n",
      "rep_results = [list(cluster_bediter(r)) for r in age_replicated]\n",
      "for label, rep, regions in zip(labels, rep_results, region_files):\n",
      "    evaluate(rep, regions, label=label, ax=ax)\n",
      "ax.plot([0, 1], [0, 1], 'k--', zorder=-1)    \n",
      "ax.legend(loc='best')    "
     ],
     "language": "python",
     "metadata": {},
     "outputs": []
    },
    {
     "cell_type": "code",
     "collapsed": false,
     "input": [],
     "language": "python",
     "metadata": {},
     "outputs": []
    }
   ],
   "metadata": {}
  }
 ]
}