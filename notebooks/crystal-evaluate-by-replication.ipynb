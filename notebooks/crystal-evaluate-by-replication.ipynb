{
 "metadata": {
  "name": "",
  "signature": "sha256:13d5e9bb541440d946915c0478e73d6339eb350d58e22ca99d69288d9bc79503"
 },
 "nbformat": 3,
 "nbformat_minor": 0,
 "worksheets": [
  {
   "cells": [
    {
     "cell_type": "markdown",
     "metadata": {},
     "source": [
      "Evaluation\n",
      "==========\n",
      "\n",
      "In this document, we evaluate the above methods on a real dataset. We also create data that should serve as true-negatives by shuffling the observed data. In this way, we can evaluate sensitivity by the number of DMR's found for a given $\\alpha$ by the number of DMR's that meet that cutoff in the real dataset. Likewise, we can evaluate the specificity (actually the false positives) by finding the number of DMR's that meet a given cutoff in the shuffled data."
     ]
    },
    {
     "cell_type": "code",
     "collapsed": false,
     "input": [
      "%matplotlib inline\n",
      "\n",
      "import toolshed as ts\n",
      "import itertools as it\n",
      "import numpy as np\n",
      "import pandas as pd\n",
      "import seaborn as sns\n",
      "import matplotlib.pyplot as plt\n",
      "\n",
      "sns.set(style=\"white\", context=\"talk\")\n",
      "colors = sns.color_palette(\"Set1\", 8)\n",
      "pool = ts.pool()\n",
      "\n",
      "import crystal\n",
      "from aclust import mclust # to create correlated clusters"
     ],
     "language": "python",
     "metadata": {},
     "outputs": [
      {
       "output_type": "stream",
       "stream": "stderr",
       "text": [
        "/usr/local/lib/python2.7/dist-packages/pytz/__init__.py:29: UserWarning: Module readline was already imported from /usr/lib/python2.7/lib-dynload/readline.x86_64-linux-gnu.so, but /home/brentp/.local/lib/python2.7/site-packages is being added to sys.path\n",
        "  from pkg_resources import resource_stream\n"
       ]
      }
     ],
     "prompt_number": 1
    },
    {
     "cell_type": "markdown",
     "metadata": {},
     "source": [
      "We need a generator that reads data and generates features to sent to aclust"
     ]
    },
    {
     "cell_type": "code",
     "collapsed": false,
     "input": [
      "def feature_gen(fname, samples, logit=True):\n",
      "    for i, d in enumerate(ts.reader(fname, header=True)):\n",
      "        chrom, pos = d['probe'].split(\":\")\n",
      "        if chrom[-1] in \"XY\": break\n",
      "        values = np.array([float(d[s]) for s in samples])\n",
      "        yield crystal.Feature(chrom, int(pos), crystal.logit(values) if logit else values)"
     ],
     "language": "python",
     "metadata": {},
     "outputs": [],
     "prompt_number": 2
    },
    {
     "cell_type": "markdown",
     "metadata": {},
     "source": [
      "Now we need to define our model and read in our covariates. First, we want to test 6 vs 6 (male vs female)."
     ]
    },
    {
     "cell_type": "code",
     "collapsed": false,
     "input": [
      "methylation_file = \"d0-450K-12.meth.txt.gz\"\n",
      "covariates_file = \"d0-450K-12.covariates.csv\"\n",
      "np.random.seed(42)\n",
      "\n",
      "covs = pd.read_csv(covariates_file, index_col=0)"
     ],
     "language": "python",
     "metadata": {},
     "outputs": [],
     "prompt_number": 3
    },
    {
     "cell_type": "markdown",
     "metadata": {},
     "source": [
      "Our input data is a methylation matrix (rows of probes and columns of samples). Here, we have encoded the position into the row names, but you can also add these on the fly as you stream over the data."
     ]
    },
    {
     "cell_type": "code",
     "collapsed": false,
     "input": [
      "# a function to restart the cluster generation each time.\n",
      "def get_cluster_iter(samples, fmeth, min_len=3, logit=True):\n",
      "    return (c for c in mclust(feature_gen(fmeth, samples, logit=logit),\n",
      "                              max_dist=300, max_skip=0) if len(c) >= min_len)"
     ],
     "language": "python",
     "metadata": {},
     "outputs": [],
     "prompt_number": 4
    },
    {
     "cell_type": "markdown",
     "metadata": {},
     "source": [
      "Mclust returns an iterator of clusters given an iterator of features. The clusters are have correlated methylation. The clustering is done without knowing the study design so it is unbiased.\n",
      "\n",
      "Each cluster is a list of features from your own feature_gen()"
     ]
    },
    {
     "cell_type": "code",
     "collapsed": false,
     "input": [
      "print covs.gender.value_counts()\n",
      "covs.head()"
     ],
     "language": "python",
     "metadata": {},
     "outputs": [
      {
       "output_type": "stream",
       "stream": "stdout",
       "text": [
        "M    7\n",
        "F    5\n",
        "dtype: int64\n"
       ]
      },
      {
       "html": [
        "<div style=\"max-height:1000px;max-width:1500px;overflow:auto;\">\n",
        "<table border=\"1\" class=\"dataframe\">\n",
        "  <thead>\n",
        "    <tr style=\"text-align: right;\">\n",
        "      <th></th>\n",
        "      <th>gender</th>\n",
        "      <th>age</th>\n",
        "      <th>Basename</th>\n",
        "      <th>ID</th>\n",
        "      <th>id</th>\n",
        "      <th>plate</th>\n",
        "    </tr>\n",
        "  </thead>\n",
        "  <tbody>\n",
        "    <tr>\n",
        "      <th>GSM1235879</th>\n",
        "      <td> M</td>\n",
        "      <td> 56.120</td>\n",
        "      <td> 6042324097_R03C02</td>\n",
        "      <td>  age56.12_M</td>\n",
        "      <td> GSM1235879</td>\n",
        "      <td> 6042324097</td>\n",
        "    </tr>\n",
        "    <tr>\n",
        "      <th>GSM1235909</th>\n",
        "      <td> M</td>\n",
        "      <td> 54.790</td>\n",
        "      <td> 6042324097_R01C01</td>\n",
        "      <td>  age54.79_M</td>\n",
        "      <td> GSM1235909</td>\n",
        "      <td> 6042324097</td>\n",
        "    </tr>\n",
        "    <tr>\n",
        "      <th>GSM1236002</th>\n",
        "      <td> F</td>\n",
        "      <td> 44.304</td>\n",
        "      <td> 6042324097_R05C02</td>\n",
        "      <td> age44.304_F</td>\n",
        "      <td> GSM1236002</td>\n",
        "      <td> 6042324097</td>\n",
        "    </tr>\n",
        "    <tr>\n",
        "      <th>GSM1236011</th>\n",
        "      <td> M</td>\n",
        "      <td> 53.719</td>\n",
        "      <td> 6042324097_R02C01</td>\n",
        "      <td> age53.719_M</td>\n",
        "      <td> GSM1236011</td>\n",
        "      <td> 6042324097</td>\n",
        "    </tr>\n",
        "    <tr>\n",
        "      <th>GSM1236114</th>\n",
        "      <td> M</td>\n",
        "      <td> 58.450</td>\n",
        "      <td> 6042324097_R03C01</td>\n",
        "      <td>  age58.45_M</td>\n",
        "      <td> GSM1236114</td>\n",
        "      <td> 6042324097</td>\n",
        "    </tr>\n",
        "  </tbody>\n",
        "</table>\n",
        "</div>"
       ],
       "metadata": {},
       "output_type": "pyout",
       "prompt_number": 5,
       "text": [
        "           gender     age           Basename           ID          id  \\\n",
        "GSM1235879      M  56.120  6042324097_R03C02   age56.12_M  GSM1235879   \n",
        "GSM1235909      M  54.790  6042324097_R01C01   age54.79_M  GSM1235909   \n",
        "GSM1236002      F  44.304  6042324097_R05C02  age44.304_F  GSM1236002   \n",
        "GSM1236011      M  53.719  6042324097_R02C01  age53.719_M  GSM1236011   \n",
        "GSM1236114      M  58.450  6042324097_R03C01   age58.45_M  GSM1236114   \n",
        "\n",
        "                 plate  \n",
        "GSM1235879  6042324097  \n",
        "GSM1235909  6042324097  \n",
        "GSM1236002  6042324097  \n",
        "GSM1236011  6042324097  \n",
        "GSM1236114  6042324097  "
       ]
      }
     ],
     "prompt_number": 5
    },
    {
     "cell_type": "markdown",
     "metadata": {},
     "source": [
      "Our analysis will be looking for DMRs related to gender we run a number of methods, repeat some under robust regression, and the evaluate the results:"
     ]
    },
    {
     "cell_type": "code",
     "collapsed": false,
     "input": [
      "clusters = list(get_cluster_iter(covs.index, methylation_file, 1))"
     ],
     "language": "python",
     "metadata": {},
     "outputs": [],
     "prompt_number": 6
    },
    {
     "cell_type": "markdown",
     "metadata": {},
     "source": [
      "# Evaluate On Replication\n",
      "\n",
      "Now we will evaluate performance using the continuous variable 'age' by using a discovery and validation cohort randomly drawn from the full dataset. We will create the plots as above using sites that replicate in the validation as 'true' positives and sites that do not as 'false' positives. There are some issues with that interpretation in the context of an ROC analysis, but it is an informative metric because we often are interested in sites that will replicate across cohorts.\n",
      "\n",
      "First, we model the original clusters and find sites related to age:"
     ]
    },
    {
     "cell_type": "code",
     "collapsed": false,
     "input": [
      "formula_base = \"methylation ~ age + gender\"\n",
      "formula_cpg = formula_base + \" + CpG\"\n",
      "coef = 'age'\n",
      "\n",
      "labels = ['zscore', 'gee', 'mixed-model']\n",
      "\n",
      "age_modeled = [list(crystal.model_clusters(clusters, covs, formula, coef, fn, pool=pool, **kwargs))\n",
      "             for fn, formula, kwargs in [\n",
      "                  (crystal.zscore_cluster, formula_base, {}),\n",
      "                  #(crystal.zscore_cluster, formula_base, dict(method=crystal.RLM)),\n",
      "                  #(crystal.zscore_cluster, formula_base, dict(method=crystal.Beta, transform=crystal.ilogit)),\n",
      "\n",
      "                  (crystal.gee_cluster, formula_cpg, {}),\n",
      "                  #(crystal.gee_cluster, formula_cpg, dict(cov_struct=Independence())),\n",
      "                  #(crystal.ols_cluster_robust, formula_cpg, {}),\n",
      "                  (crystal.mixed_model_cluster, formula_cpg, {})\n",
      " \n",
      "           ]]"
     ],
     "language": "python",
     "metadata": {},
     "outputs": [
      {
       "output_type": "stream",
       "stream": "stderr",
       "text": [
        "/usr/local/lib/python2.7/dist-packages/statsmodels-0.6.0-py2.7-linux-x86_64.egg/statsmodels/regression/mixed_linear_model.py:1676: ConvergenceWarning: The MLE may be on the boundary of the parameter space.\n",
        "  warnings.warn(msg, ConvergenceWarning)\n",
        "/usr/local/lib/python2.7/dist-packages/statsmodels-0.6.0-py2.7-linux-x86_64.egg/statsmodels/regression/mixed_linear_model.py:1676: ConvergenceWarning: The MLE may be on the boundary of the parameter space.\n",
        "  warnings.warn(msg, ConvergenceWarning)\n",
        "/usr/local/lib/python2.7/dist-packages/statsmodels-0.6.0-py2.7-linux-x86_64.egg/statsmodels/regression/mixed_linear_model.py:1676: ConvergenceWarning: The MLE may be on the boundary of the parameter space.\n",
        "  warnings.warn(msg, ConvergenceWarning)\n",
        "/usr/local/lib/python2.7/dist-packages/statsmodels-0.6.0-py2.7-linux-x86_64.egg/statsmodels/regression/mixed_linear_model.py:1676: ConvergenceWarning: The MLE may be on the boundary of the parameter space.\n",
        "  warnings.warn(msg, ConvergenceWarning)\n",
        "/usr/local/lib/python2.7/dist-packages/statsmodels-0.6.0-py2.7-linux-x86_64.egg/statsmodels/regression/mixed_linear_model.py:1676: ConvergenceWarning: The MLE may be on the boundary of the parameter space.\n",
        "  warnings.warn(msg, ConvergenceWarning)\n",
        "/usr/local/lib/python2.7/dist-packages/statsmodels-0.6.0-py2.7-linux-x86_64.egg/statsmodels/regression/mixed_linear_model.py:1676: ConvergenceWarning: The MLE may be on the boundary of the parameter space.\n",
        "  warnings.warn(msg, ConvergenceWarning)\n",
        "/usr/local/lib/python2.7/dist-packages/statsmodels-0.6.0-py2.7-linux-x86_64.egg/statsmodels/regression/mixed_linear_model.py:1676: ConvergenceWarning: The MLE may be on the boundary of the parameter space.\n",
        "  warnings.warn(msg, ConvergenceWarning)\n",
        "/usr/local/lib/python2.7/dist-packages/statsmodels-0.6.0-py2.7-linux-x86_64.egg/statsmodels/regression/mixed_linear_model.py:1676: ConvergenceWarning: The MLE may be on the boundary of the parameter space.\n",
        "  warnings.warn(msg, ConvergenceWarning)\n",
        "/usr/local/lib/python2.7/dist-packages/statsmodels-0.6.0-py2.7-linux-x86_64.egg/statsmodels/regression/mixed_linear_model.py:1676: ConvergenceWarning: The MLE may be on the boundary of the parameter space.\n",
        "  warnings.warn(msg, ConvergenceWarning)\n",
        "/usr/local/lib/python2.7/dist-packages/statsmodels-0.6.0-py2.7-linux-x86_64.egg/statsmodels/regression/mixed_linear_model.py:1676: ConvergenceWarning: The MLE may be on the boundary of the parameter space.\n",
        "  warnings.warn(msg, ConvergenceWarning)\n",
        "/usr/local/lib/python2.7/dist-packages/statsmodels-0.6.0-py2.7-linux-x86_64.egg/statsmodels/regression/mixed_linear_model.py:1676: ConvergenceWarning: The MLE may be on the boundary of the parameter space.\n",
        "  warnings.warn(msg, ConvergenceWarning)\n",
        "/usr/local/lib/python2.7/dist-packages/statsmodels-0.6.0-py2.7-linux-x86_64.egg/statsmodels/base/model.py:445: ConvergenceWarning: Maximum Likelihood optimization failed to converge. Check mle_retvals\n",
        "  \"Check mle_retvals\", ConvergenceWarning)\n",
        "/usr/local/lib/python2.7/dist-packages/statsmodels-0.6.0-py2.7-linux-x86_64.egg/statsmodels/base/model.py:445: ConvergenceWarning: Maximum Likelihood optimization failed to converge. Check mle_retvals\n",
        "  \"Check mle_retvals\", ConvergenceWarning)\n",
        "/usr/local/lib/python2.7/dist-packages/statsmodels-0.6.0-py2.7-linux-x86_64.egg/statsmodels/base/model.py:445: ConvergenceWarning: Maximum Likelihood optimization failed to converge. Check mle_retvals\n",
        "  \"Check mle_retvals\", ConvergenceWarning)\n",
        "/usr/local/lib/python2.7/dist-packages/statsmodels-0.6.0-py2.7-linux-x86_64.egg/statsmodels/base/model.py:445: ConvergenceWarning: Maximum Likelihood optimization failed to converge. Check mle_retvals\n",
        "  \"Check mle_retvals\", ConvergenceWarning)\n",
        "/usr/local/lib/python2.7/dist-packages/statsmodels-0.6.0-py2.7-linux-x86_64.egg/statsmodels/base/model.py:445: ConvergenceWarning: Maximum Likelihood optimization failed to converge. Check mle_retvals\n",
        "  \"Check mle_retvals\", ConvergenceWarning)\n",
        "/usr/local/lib/python2.7/dist-packages/statsmodels-0.6.0-py2.7-linux-x86_64.egg/statsmodels/base/model.py:445: ConvergenceWarning: Maximum Likelihood optimization failed to converge. Check mle_retvals\n",
        "  \"Check mle_retvals\", ConvergenceWarning)\n",
        "/usr/local/lib/python2.7/dist-packages/statsmodels-0.6.0-py2.7-linux-x86_64.egg/statsmodels/base/model.py:445: ConvergenceWarning: Maximum Likelihood optimization failed to converge. Check mle_retvals\n",
        "  \"Check mle_retvals\", ConvergenceWarning)\n",
        "/usr/local/lib/python2.7/dist-packages/statsmodels-0.6.0-py2.7-linux-x86_64.egg/statsmodels/base/model.py:445: ConvergenceWarning: Maximum Likelihood optimization failed to converge. Check mle_retvals\n",
        "  \"Check mle_retvals\", ConvergenceWarning)\n",
        "/usr/local/lib/python2.7/dist-packages/statsmodels-0.6.0-py2.7-linux-x86_64.egg/statsmodels/base/model.py:445: ConvergenceWarning: Maximum Likelihood optimization failed to converge. Check mle_retvals\n",
        "  \"Check mle_retvals\", ConvergenceWarning)\n",
        "/usr/local/lib/python2.7/dist-packages/statsmodels-0.6.0-py2.7-linux-x86_64.egg/statsmodels/base/model.py:445: ConvergenceWarning: Maximum Likelihood optimization failed to converge. Check mle_retvals\n",
        "  \"Check mle_retvals\", ConvergenceWarning)\n",
        "/usr/local/lib/python2.7/dist-packages/statsmodels-0.6.0-py2.7-linux-x86_64.egg/statsmodels/base/model.py:445: ConvergenceWarning: Maximum Likelihood optimization failed to converge. Check mle_retvals\n",
        "  \"Check mle_retvals\", ConvergenceWarning)\n"
       ]
      }
     ],
     "prompt_number": 7
    },
    {
     "cell_type": "markdown",
     "metadata": {},
     "source": [
      "Then, we write those regions to a file; we will want to replicate sites with p < 1e-3."
     ]
    },
    {
     "cell_type": "code",
     "collapsed": false,
     "input": [
      "CUTOFF = 1e-4\n",
      "from crystal.evaluate import write_modeled_regions        \n",
      "region_files = []        \n",
      "for label, method in zip(labels, age_modeled):\n",
      "    out_fh = open('/tmp/%s.regions.bed' % label.replace(' ', '-'), 'w')\n",
      "    write_modeled_regions(method, CUTOFF, out_fh)\n",
      "    region_files.append(out_fh.name)\n",
      "    out_fh.close()"
     ],
     "language": "python",
     "metadata": {},
     "outputs": [],
     "prompt_number": 66
    },
    {
     "cell_type": "code",
     "collapsed": false,
     "input": [
      "external = ('betabinomial', 'bumphunter', 'dmrcate', 'limma')\n",
      "disc_feats = [f for c in clusters for f in c]\n",
      "for label in external:\n",
      "    out_fh = open('/tmp/%s.regions.bed' % label, 'w')\n",
      "    df = \"../work/discovery%s.output.bed\" % label\n",
      "    subset = [\"\\t\".join(t.values()) for t in ts.reader(df, header=\"ordered\") if float(t['p']) < CUTOFF ]\n",
      "    print label, len(subset)\n",
      "    write_region_bed(disc_feats, subset, out_fh)\n",
      "    out_fh.close()   \n",
      "        "
     ],
     "language": "python",
     "metadata": {},
     "outputs": [
      {
       "output_type": "stream",
       "stream": "stdout",
       "text": [
        "betabinomial 3992\n",
        "bumphunter"
       ]
      },
      {
       "output_type": "stream",
       "stream": "stdout",
       "text": [
        " 0\n",
        "dmrcate"
       ]
      },
      {
       "output_type": "stream",
       "stream": "stdout",
       "text": [
        " 91\n",
        "limma"
       ]
      },
      {
       "output_type": "stream",
       "stream": "stdout",
       "text": [
        " 77\n"
       ]
      }
     ],
     "prompt_number": 67
    },
    {
     "cell_type": "code",
     "collapsed": false,
     "input": [
      "rmethylation_file = \"v0-450K-12.meth.txt.gz\"\n",
      "rcovariates_file = \"v0-450K-12.covariates.csv\"\n",
      "\n",
      "rcovs = pd.read_csv(rcovariates_file, index_col=0)\n",
      "\n",
      "replication_clusters = list(get_cluster_iter(rcovs.index, rmethylation_file))"
     ],
     "language": "python",
     "metadata": {},
     "outputs": [],
     "prompt_number": 9
    },
    {
     "cell_type": "code",
     "collapsed": false,
     "input": [
      "age_replicated = [list(crystal.model_clusters(replication_clusters, rcovs, formula, coef, fn, pool=pool, **kwargs))\n",
      "             for fn, formula, kwargs in [\n",
      "                  (crystal.zscore_cluster, formula_base, {}),\n",
      "                  (crystal.gee_cluster, formula_cpg, {}),\n",
      "                  (crystal.mixed_model_cluster, formula_cpg, {})\n",
      "           ]]"
     ],
     "language": "python",
     "metadata": {},
     "outputs": [],
     "prompt_number": 10
    },
    {
     "cell_type": "code",
     "collapsed": false,
     "input": [
      "from crystal.evaluate import evaluate, cluster_bediter\n",
      "fig, ax = plt.subplots(1)\n",
      "\n",
      "# first do a simple transform to make use of the regions function\n",
      "rep_results = [list(cluster_bediter(r)) for r in age_replicated]\n",
      "for label, rep, regions in zip(labels, rep_results, region_files):\n",
      "    evaluate(rep, regions, label=label, ax=ax)\n",
      "    \n",
      "for label in external:\n",
      "    if label == \"bumphunter\": continue\n",
      "    regions = \"/tmp/%s.regions.bed\" % label\n",
      "    biter = ((d['chrom'], int(float(d['start'])), int(float(d['end'])), float(d['p']), 1) for \n",
      "                                          d in ts.reader(\"../work/validation%s.output.bed\" % label))\n",
      "    evaluate(biter, regions, label=label, ax=ax)\n",
      "    \n",
      "ax.plot([0, 1], [0, 1], 'k--', zorder=-1) \n",
      "ax.set_xlim(0, 0.3)\n",
      "ax.set_ylim(0, 0.3)\n",
      "ax.legend(loc='best')    \n",
      "plt.savefig('../figures/figure3.eps')"
     ],
     "language": "python",
     "metadata": {},
     "outputs": [
      {
       "output_type": "stream",
       "stream": "stdout",
       "text": [
        "AUC: 0.5309 | zscore 443170\n",
        "AUC: 0.6003 | gee"
       ]
      },
      {
       "output_type": "stream",
       "stream": "stdout",
       "text": [
        " 443170\n",
        "AUC: 0.6052 | mixed-model"
       ]
      },
      {
       "output_type": "stream",
       "stream": "stdout",
       "text": [
        " 443170\n",
        "AUC: 0.5137 | betabinomial"
       ]
      },
      {
       "output_type": "stream",
       "stream": "stdout",
       "text": [
        " 443170\n",
        "AUC: 0.4891 | dmrcate"
       ]
      },
      {
       "output_type": "stream",
       "stream": "stdout",
       "text": [
        " 443170\n",
        "AUC: 0.5815 | limma"
       ]
      },
      {
       "output_type": "stream",
       "stream": "stdout",
       "text": [
        " 443170\n"
       ]
      },
      {
       "metadata": {},
       "output_type": "display_data",
       "png": "[encoded data removed]",
       "text": [
        "<matplotlib.figure.Figure at 0x2acff36fad10>"
       ]
      }
     ],
     "prompt_number": 69
    },
    {
     "cell_type": "code",
     "collapsed": false,
     "input": [],
     "language": "python",
     "metadata": {},
     "outputs": []
    }
   ],
   "metadata": {}
  }
 ]
}