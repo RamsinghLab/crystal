{
 "metadata": {
  "name": ""
 },
 "nbformat": 3,
 "nbformat_minor": 0,
 "worksheets": [
  {
   "cells": [
    {
     "cell_type": "markdown",
     "metadata": {},
     "source": [
      "Crystal\n",
      "=======\n",
      "\n",
      "*Crystal* is a framework for writing functions that test regions for differential methylation. Or, practically, it is a *DMR* (differentially methylated region) caller. The challenge of DMR calling lies in handling correlated data as we see in DNA methylation.\n",
      "\n",
      "*Crystal* works by generating clusters using [aclust](https://github.com/brentp/aclust) and then testing them against a chosen method. New methods can be implemented easily, but currently, there is:\n",
      "\n",
      "1. GEE: generalized estimating equation using sample as the grouping variable\n",
      "2. Mixed Effect Model: with a random intercept by sample\n",
      "3. Combining P-values: test each site in a region and combine the resulting p-values using the Stouffer-Liptak or Z-score method\n",
      "4. Bump(hunt)ing: A modification of bumphunting that works on local clusters and allows arbitrary metrics (not just the sum of the smoothed coefficients).\n",
      "\n",
      "Methods using Robust regression are also available for the above.\n",
      "\n",
      "Note that these are cleanly implemented in python thanks to the **excellent** [statsmodels package](https://github.com/statsmodels/statsmodels)\n",
      "\n",
      "Clustering\n",
      "----------\n",
      "\n",
      "`Crystal` first clusters DNA methylation by grouping correlated probes using [streaming agglomerative clustering](https://github.com/brentp/aclust). This idea was first implemented in a different form by Sofer et al [here](http://bioinformatics.oxfordjournals.org/content/29/22/2884). The advantage of clustering before modeling are:\n",
      "\n",
      "1. it allows us to perform a fixed number of tests\n",
      "2. different testing methods can be performed on the same clusters\n",
      "3. the clustering is done without knowing the study design, so we can test the same clusters with different studies\n",
      "4. since we test a fixed number of clusters, traditional multiple-testing methods are appropriate\n",
      "\n",
      "Modeling\n",
      "--------\n",
      "Once we have clusters, we can evaluate different modeling strategies to see which perform best. It is simple to write your own modeling function in a few lines of python, for this example, we will use the z-score method which models each probe in a cluster independently and then combines the p-values accounting for their correlation.\n",
      "\n",
      "Below we go through an example. You can run this on your own data as long as it is in the same format (e.g. methylation row-labels are chrom:position rather than illumina cg id)."
     ]
    },
    {
     "cell_type": "markdown",
     "metadata": {},
     "source": [
      "Example\n",
      "-------\n",
      "\n",
      "First we import the needed modules and take a loot at the files that we will be using. The example data is from [GSE51032](http://www.ncbi.nlm.nih.gov/geo/query/acc.cgi?acc=GSE51032) which contains 845 samples with 450K data.\n",
      "\n",
      "We have normalized the methylation using [minfi](http://www.bioconductor.org/packages/release/bioc/html/minfi.html) with [this script](https://github.com/brentp/crystal/blob/master/notebooks/minfi-norm.R)"
     ]
    },
    {
     "cell_type": "code",
     "collapsed": false,
     "input": [
      "import toolshed as ts\n",
      "import numpy as np\n",
      "import pandas as pd\n",
      "import crystal\n",
      "from aclust import mclust # to create correlated clusters\n",
      "\n",
      "methylation = \"/drive/450k/norm.beta.txt.gz\"\n",
      "covariates = \"covariates.csv\""
     ],
     "language": "python",
     "metadata": {},
     "outputs": [],
     "prompt_number": 3
    },
    {
     "cell_type": "code",
     "collapsed": false,
     "input": [
      "%%bash\n",
      "zcat /drive/450k/norm.beta.txt.gz | head -5 | cut -f 1-6"
     ],
     "language": "python",
     "metadata": {},
     "outputs": [
      {
       "output_type": "stream",
       "stream": "stdout",
       "text": [
        "probe\tGSM1235534\tGSM1235535\tGSM1235536\tGSM1235537\tGSM1235538\n",
        "chr1:68849\t0.799444\t0.549618\t0.594769\t0.760138\t0.537709\n",
        "chr1:69591\t0.742661\t0.763535\t0.803201\t0.810795\t0.752582\n",
        "chr1:530959\t0.772799\t0.780313\t0.734328\t0.799173\t0.779958\n",
        "chr1:565170\t0.340033\t0.351257\t0.334272\t0.330549\t0.309005\n"
       ]
      },
      {
       "output_type": "stream",
       "stream": "stderr",
       "text": [
        "\n",
        "gzip: stdout: Broken pipe\n"
       ]
      }
     ],
     "prompt_number": 4
    },
    {
     "cell_type": "code",
     "collapsed": false,
     "input": [
      "%%bash \n",
      "head -5 covariates.csv"
     ],
     "language": "python",
     "metadata": {},
     "outputs": [
      {
       "output_type": "stream",
       "stream": "stdout",
       "text": [
        "\"\",\"gender\",\"age\",\"Basename\",\"ID\"\n",
        "\"GSM1235534\",\"F\",54.322,\"6969568099_R02C02\",\"age54.322_F\"\n",
        "\"GSM1235535\",\"F\",44.561,\"6969568052_R02C01\",\"age44.561_F\"\n",
        "\"GSM1235536\",\"F\",50.869,\"6969568141_R03C01\",\"age50.869_F\"\n",
        "\"GSM1235537\",\"F\",46.858,\"6969568052_R01C02\",\"age46.858_F\"\n"
       ]
      }
     ],
     "prompt_number": 6
    },
    {
     "cell_type": "markdown",
     "metadata": {},
     "source": [
      "Now we create a `feature_gen` function that yields Features that have a chrom, a position, and a numpy array of methylation values.\n",
      "\n",
      "These are clustered using [aclust](https://github.com/brentp/aclust) and yielded lazily."
     ]
    },
    {
     "cell_type": "code",
     "collapsed": false,
     "input": [
      "def logit(a): return np.log(a / (1 - a))\n",
      "\n",
      "def feature_gen(fname):         \n",
      "    for i, toks in enumerate(ts.reader(fname, header=False)):\n",
      "        if i == 0: continue\n",
      "        chrom, pos = toks[0].split(\":\")\n",
      "        yield crystal.Feature(chrom, int(pos), logit(np.array(map(float, toks[1:]))))\n",
      "        \n",
      "# generate clusters lazily.\n",
      "cluster_iter =(c for c in mclust(feature_gen(methylation),\n",
      "                                max_dist=400, max_skip=1) if len(c) > 3)\n",
      "        "
     ],
     "language": "python",
     "metadata": {},
     "outputs": [],
     "prompt_number": 8
    },
    {
     "cell_type": "markdown",
     "metadata": {},
     "source": [
      "A cluster is basically just a list of Feature objects for positions with correlated methylation"
     ]
    },
    {
     "cell_type": "code",
     "collapsed": false,
     "input": [
      "first_cluster = next(cluster_iter)\n",
      "[repr(f) for f in first_cluster] "
     ],
     "language": "python",
     "metadata": {},
     "outputs": [
      {
       "metadata": {},
       "output_type": "pyout",
       "prompt_number": 9,
       "text": [
        "['Feature(chr1:870791)',\n",
        " 'Feature(chr1:870958)',\n",
        " 'Feature(chr1:870810)',\n",
        " 'Feature(chr1:871033)',\n",
        " 'Feature(chr1:871057)',\n",
        " 'Feature(chr1:871308)',\n",
        " 'Feature(chr1:871441)',\n",
        " 'Feature(chr1:871546)']"
       ]
      }
     ],
     "prompt_number": 9
    },
    {
     "cell_type": "markdown",
     "metadata": {},
     "source": [
      "We can see that the data in the cluster is highly correlated as expected:"
     ]
    },
    {
     "cell_type": "code",
     "collapsed": false,
     "input": [
      "np.corrcoef(first_cluster[0].values, first_cluster[1].values)[0, 1]"
     ],
     "language": "python",
     "metadata": {},
     "outputs": [
      {
       "metadata": {},
       "output_type": "pyout",
       "prompt_number": 10,
       "text": [
        "0.73814370087666248"
       ]
      }
     ],
     "prompt_number": 10
    },
    {
     "cell_type": "markdown",
     "metadata": {},
     "source": [
      "Now we want to model the cluster:"
     ]
    },
    {
     "cell_type": "code",
     "collapsed": false,
     "input": [
      "formula = \"methylation ~ age + gender\"\n",
      "covs = pd.read_csv(covariates, index_col=0)\n",
      "covs['id'] = covs.index\n",
      "crystal.zscore_cluster(formula, np.array([x.values for x in first_cluster]), covs, \"age\")"
     ],
     "language": "python",
     "metadata": {},
     "outputs": [
      {
       "metadata": {},
       "output_type": "pyout",
       "prompt_number": 19,
       "text": [
        "{'coef': -0.0044047891187494696,\n",
        " 'p': 0.01567382907601245,\n",
        " 't': -2.2576256655203242}"
       ]
      }
     ],
     "prompt_number": 19
    },
    {
     "cell_type": "markdown",
     "metadata": {},
     "source": [
      "We can do the same with different methods. Note that methods which do not model the CpG's separately should\n",
      "include \"CpG\" as a covariate in the model. It is added to the tested data automatically."
     ]
    },
    {
     "cell_type": "code",
     "collapsed": false,
     "input": [
      "crystal.liptak_cluster(formula, np.array([x.values for x in first_cluster]), covs, \"age\")"
     ],
     "language": "python",
     "metadata": {},
     "outputs": [
      {
       "metadata": {},
       "output_type": "pyout",
       "prompt_number": 20,
       "text": [
        "{'coef': -0.0044047891187494696,\n",
        " 'p': 0.04572171997170027,\n",
        " 't': -2.2576256655203242}"
       ]
      }
     ],
     "prompt_number": 20
    },
    {
     "cell_type": "code",
     "collapsed": false,
     "input": [
      "crystal.gee_cluster(formula + \" + CpG\" , np.array([x.values for x in first_cluster]), covs, \"age\")"
     ],
     "language": "python",
     "metadata": {},
     "outputs": [
      {
       "metadata": {},
       "output_type": "pyout",
       "prompt_number": 21,
       "text": [
        "{'coef': -0.0044047891187494808,\n",
        " 'p': 0.0043974275521863598,\n",
        " 't': -2.8481494019209634}"
       ]
      }
     ],
     "prompt_number": 21
    },
    {
     "cell_type": "code",
     "collapsed": false,
     "input": [
      "crystal.mixed_model_cluster(formula + \" + CpG\" , np.array([x.values for x in first_cluster]), covs, \"age\")"
     ],
     "language": "python",
     "metadata": {},
     "outputs": [
      {
       "metadata": {},
       "output_type": "pyout",
       "prompt_number": 22,
       "text": [
        "{'coef': -0.004404769759127701,\n",
        " 'p': 0.0080654088246314478,\n",
        " 't': -2.6493193093739138}"
       ]
      }
     ],
     "prompt_number": 22
    },
    {
     "cell_type": "markdown",
     "metadata": {},
     "source": [
      "Note that:\n",
      "\n",
      "1. the different methods come up with different p-values but the coefficient estimates are nearly identical.\n",
      "2. every method takes the same arguments: formula, methylation, covariates, coefficient-of-interest\n",
      "\n",
      "So we could easily test gender as (note that it is very significant):"
     ]
    },
    {
     "cell_type": "code",
     "collapsed": false,
     "input": [
      "crystal.gee_cluster(formula + \" + CpG\" , np.array([x.values for x in first_cluster]), covs, \"gender\")"
     ],
     "language": "python",
     "metadata": {},
     "outputs": [
      {
       "metadata": {},
       "output_type": "pyout",
       "prompt_number": 23,
       "text": [
        "{'coef': 0.030036469142774143,\n",
        " 'p': 0.28718823025334195,\n",
        " 't': 1.0643101305210267}"
       ]
      }
     ],
     "prompt_number": 23
    },
    {
     "cell_type": "markdown",
     "metadata": {},
     "source": [
      "In general we don't want to mess around with a single cluster, we want to test every cluster. There is a simple calling function to do this:"
     ]
    },
    {
     "cell_type": "code",
     "collapsed": false,
     "input": [
      "header = \"{chrom}\\t{start}\\t{end}\\t{p:.4g}\\t{coef:.3f}\\t{n_sites}\"\n",
      "formula = \"methylation ~ age + gender + CpG\"\n",
      "print ts.fmt2header(header)\n",
      "for i, cluster in enumerate(crystal.model_clusters(cluster_iter, covs, formula, \"age\", crystal.gee_cluster, n_cpu=1)):\n",
      "    if i > 10: break\n",
      "    print header.format(**cluster)"
     ],
     "language": "python",
     "metadata": {},
     "outputs": [
      {
       "output_type": "stream",
       "stream": "stdout",
       "text": [
        "chrom\tstart\tend\tp\tcoef\tn_sites\n",
        "chr1\t3620637\t3621048\t0.2005\t0.001\t5"
       ]
      },
      {
       "output_type": "stream",
       "stream": "stdout",
       "text": [
        "\n",
        "chr1\t6268857\t6269448\t5.867e-11\t0.009\t4"
       ]
      },
      {
       "output_type": "stream",
       "stream": "stdout",
       "text": [
        "\n",
        "chr1\t6514604\t6515580\t0.1902\t0.001\t4"
       ]
      },
      {
       "output_type": "stream",
       "stream": "stdout",
       "text": [
        "\n",
        "chr1\t7887198\t7887560\t0.2834\t-0.001\t5"
       ]
      },
      {
       "output_type": "stream",
       "stream": "stdout",
       "text": [
        "\n",
        "chr1\t9775754\t9776133\t0.0254\t-0.002\t4"
       ]
      },
      {
       "output_type": "stream",
       "stream": "stdout",
       "text": [
        "\n",
        "chr1\t11795745\t11795946\t0.1415\t0.001\t5"
       ]
      },
      {
       "output_type": "stream",
       "stream": "stdout",
       "text": [
        "\n",
        "chr1\t11908163\t11908347\t0.009408\t-0.003\t4"
       ]
      },
      {
       "output_type": "stream",
       "stream": "stdout",
       "text": [
        "\n",
        "chr1\t16163478\t16164122\t5.392e-07\t0.006\t7"
       ]
      },
      {
       "output_type": "stream",
       "stream": "stdout",
       "text": [
        "\n",
        "chr1\t16554170\t16554984\t1.697e-07\t0.007\t5"
       ]
      },
      {
       "output_type": "stream",
       "stream": "stdout",
       "text": [
        "\n",
        "chr1\t17018683\t17020878\t0.2384\t0.002\t8"
       ]
      },
      {
       "output_type": "stream",
       "stream": "stdout",
       "text": [
        "\n",
        "chr1\t19600470\t19600817\t0.2853\t0.002\t6"
       ]
      },
      {
       "output_type": "stream",
       "stream": "stdout",
       "text": [
        "\n"
       ]
      }
     ],
     "prompt_number": 24
    },
    {
     "cell_type": "markdown",
     "metadata": {},
     "source": [
      "But, we can see how similar those results are to using a method that combines p-values:"
     ]
    },
    {
     "cell_type": "code",
     "collapsed": false,
     "input": [
      "cluster_iter =(c for c in mclust(feature_gen(methylation),\n",
      "                                max_dist=400, max_skip=1) if len(c) > 3)\n",
      "next(cluster_iter) # discard first one as above\n",
      "formula = \"methylation ~ age + gender\"\n",
      "for i, cluster in enumerate(crystal.model_clusters(cluster_iter, covs, formula, \"age\", crystal.liptak_cluster, n_cpu=1)):\n",
      "    if i > 10: break\n",
      "    print header.format(**cluster)"
     ],
     "language": "python",
     "metadata": {},
     "outputs": [
      {
       "output_type": "stream",
       "stream": "stdout",
       "text": [
        "chr1\t946874\t947018\t0.06222\t0.002\t4\n",
        "chr1\t949391\t949893\t0.6309\t-0.001\t5"
       ]
      },
      {
       "output_type": "stream",
       "stream": "stdout",
       "text": [
        "\n",
        "chr1\t1003125\t1003529\t0.3111\t0.001\t4"
       ]
      },
      {
       "output_type": "stream",
       "stream": "stdout",
       "text": [
        "\n",
        "chr1\t1195568\t1196747\t0.2435\t0.002\t4"
       ]
      },
      {
       "output_type": "stream",
       "stream": "stdout",
       "text": [
        "\n",
        "chr1\t1564421\t1565027\t0.9961\t-0.001\t6"
       ]
      },
      {
       "output_type": "stream",
       "stream": "stdout",
       "text": [
        "\n",
        "chr1\t1957319\t1957711\t0.1226\t0.001\t4"
       ]
      },
      {
       "output_type": "stream",
       "stream": "stdout",
       "text": [
        "\n",
        "chr1\t2084318\t2084595\t0.233\t0.001\t4"
       ]
      },
      {
       "output_type": "stream",
       "stream": "stdout",
       "text": [
        "\n",
        "chr1\t2106221\t2106620\t0.6147\t0.001\t4"
       ]
      },
      {
       "output_type": "stream",
       "stream": "stdout",
       "text": [
        "\n",
        "chr1\t2120984\t2121521\t0.9079\t-0.001\t5"
       ]
      },
      {
       "output_type": "stream",
       "stream": "stdout",
       "text": [
        "\n",
        "chr1\t2345367\t2345410\t0.002221\t-0.005\t5"
       ]
      },
      {
       "output_type": "stream",
       "stream": "stdout",
       "text": [
        "\n",
        "chr1\t2885084\t2885244\t0.0002788\t-0.004\t4"
       ]
      },
      {
       "output_type": "stream",
       "stream": "stdout",
       "text": [
        "\n"
       ]
      }
     ],
     "prompt_number": 25
    },
    {
     "cell_type": "markdown",
     "metadata": {},
     "source": [
      "We can see what is returned in a single cluster afer the modeling:"
     ]
    },
    {
     "cell_type": "code",
     "collapsed": false,
     "input": [
      "cluster"
     ],
     "language": "python",
     "metadata": {},
     "outputs": [
      {
       "metadata": {},
       "output_type": "pyout",
       "prompt_number": 18,
       "text": [
        "{'chrom': 'chr1',\n",
        " 'coef': -0.0014934146483204271,\n",
        " 'end': 3105252,\n",
        " 'n_sites': 4,\n",
        " 'p': 0.91410022032692573,\n",
        " 'sites': 'chr1:3104999,chr1:3105151,chr1:3105189,chr1:3105252',\n",
        " 'start': 3104998,\n",
        " 't': -0.84205224892885289,\n",
        " 'time': 0.03709697723388672,\n",
        " 'var': 'age'}"
       ]
      }
     ],
     "prompt_number": 18
    },
    {
     "cell_type": "markdown",
     "metadata": {},
     "source": [
      "In general, regardless of the format of your input data, if you can make a generator like `feature_gen` above, that yields `Feature` objects in chromosome and position order, then it will be very simple to run these methods.\n",
      "\n",
      "See the included [minfi-norm.R](https://github.com/brentp/crystal/) for how to get your 450k data in a format where you can use the above without modification."
     ]
    },
    {
     "cell_type": "code",
     "collapsed": false,
     "input": [],
     "language": "python",
     "metadata": {},
     "outputs": []
    }
   ],
   "metadata": {}
  }
 ]
}