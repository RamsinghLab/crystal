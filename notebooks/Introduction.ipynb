{
 "metadata": {
  "name": "",
  "signature": "sha256:72f490db03b3515aaa454cb8f638891ed93ba0b70ad04cef0823d745c5d2b7d0"
 },
 "nbformat": 3,
 "nbformat_minor": 0,
 "worksheets": [
  {
   "cells": [
    {
     "cell_type": "markdown",
     "metadata": {},
     "source": [
      "Crystal\n",
      "=======\n",
      "\n",
      "*Crystal* is a framework for writing functions that test regions for differential methylation. Or, practically, it is a *DMR* (differentially methylated region) caller. The challenge of DMR calling lies in handling correlated data as we see in DNA methylation.\n",
      "\n",
      "*Crystal* works by generating clusters using [aclust](https://github.com/brentp/aclust) and then testing them against a chosen method. New methods can be implemented easily, but currently, there is:\n",
      "\n",
      "1. GEE: generalized estimating equation using sample as the grouping variable\n",
      "2. Mixed Effect Model: with a random intercept by sample\n",
      "3. Combining P-values: test each site in a region and combine the resulting p-values using the Stouffer-Liptak or Z-score method\n",
      "4. Bump(hunt)ing: A modification of bumphunting that works on local clusters and allows arbitrary metrics (not just the sum of the smoothed coefficients).\n",
      "\n",
      "Methods using Robust regression are also available for the above.\n",
      "\n",
      "Note that these are cleanly implemented in python thanks to the **excellent** [statsmodels package](https://github.com/statsmodels/statsmodels)\n",
      "\n",
      "Clustering\n",
      "----------\n",
      "\n",
      "`Crystal` first clusters DNA methylation by grouping correlated probes using [streaming agglomerative clustering](https://github.com/brentp/aclust). This idea was first implemented in a different form by Sofer et al [here](http://bioinformatics.oxfordjournals.org/content/29/22/2884). The advantage of clustering before modeling are:\n",
      "\n",
      "1. it allows us to perform a fixed number of tests\n",
      "2. different testing methods can be performed on the same clusters\n",
      "3. the clustering is done without knowing the study design, so we can test the same clusters with different studies\n",
      "4. since we test a fixed number of clusters, traditional multiple-testing methods are appropriate\n",
      "\n",
      "Modeling\n",
      "--------\n",
      "Once we have clusters, we can evaluate different modeling strategies to see which perform best. It is simple to write your own modeling function in a few lines of python, for this example, we will use the z-score method which models each probe in a cluster independently and then combines the p-values accounting for their correlation.\n",
      "\n",
      "Below we go through an example. You can run this on your own data as long as it is in the same format (e.g. methylation row-labels are chrom:position rather than illumina cg id)."
     ]
    },
    {
     "cell_type": "markdown",
     "metadata": {},
     "source": [
      "Example\n",
      "-------\n",
      "\n",
      "First we import the needed modules and take a loot at the files that we will be using. The example data is from [GSE51032](http://www.ncbi.nlm.nih.gov/geo/query/acc.cgi?acc=GSE51032) which contains 845 samples with 450K data.\n",
      "\n",
      "We have downloaded and prepared the data using [this script](https://github.com/brentp/crystal/blob/master/notebooks/get_geo.sh).\n",
      "\n",
      "We have normalized the methylation using [minfi](http://www.bioconductor.org/packages/release/bioc/html/minfi.html) with [this script](https://github.com/brentp/crystal/blob/master/notebooks/minfi-norm.R)"
     ]
    },
    {
     "cell_type": "code",
     "collapsed": false,
     "input": [
      "%matplotlib inline\n",
      "%reload_ext autoreload\n",
      "%autoreload 2\n",
      "\n",
      "import toolshed as ts\n",
      "import numpy as np\n",
      "import pandas as pd\n",
      "import crystal\n",
      "from aclust import mclust # to create correlated clusters\n",
      "\n",
      "methylation = \"/drive/450k/norm.beta.txt.gz\"\n",
      "covariates = \"covariates.csv\""
     ],
     "language": "python",
     "metadata": {},
     "outputs": [],
     "prompt_number": 1
    },
    {
     "cell_type": "code",
     "collapsed": false,
     "input": [
      "%%bash\n",
      "zcat /drive/450k/norm.beta.txt.gz | head -5 | cut -f 1-6"
     ],
     "language": "python",
     "metadata": {},
     "outputs": [
      {
       "output_type": "stream",
       "stream": "stdout",
       "text": [
        "probe\tGSM1235534\tGSM1235535\tGSM1235536\tGSM1235537\tGSM1235538\n",
        "chr1:834183\t0.638192\t0.731295\t0.725366\t0.771601\t0.698645\n",
        "chr1:839752\t0.370889\t0.402201\t0.811500\t0.134692\t0.382109\n",
        "chr1:843581\t0.820352\t0.821363\t0.757644\t0.843906\t0.861015\n",
        "chr1:844499\t0.880011\t0.890721\t0.878867\t0.911902\t0.883178\n"
       ]
      },
      {
       "output_type": "stream",
       "stream": "stderr",
       "text": [
        "\n",
        "gzip: stdout: Broken pipe\n"
       ]
      }
     ],
     "prompt_number": 2
    },
    {
     "cell_type": "code",
     "collapsed": false,
     "input": [
      "%%bash \n",
      "head -5 covariates.csv"
     ],
     "language": "python",
     "metadata": {},
     "outputs": [
      {
       "output_type": "stream",
       "stream": "stdout",
       "text": [
        "\"\",\"gender\",\"age\",\"Basename\",\"ID\"\n",
        "\"GSM1235534\",\"F\",54.322,\"6969568099_R02C02\",\"age54.322_F\"\n",
        "\"GSM1235535\",\"F\",44.561,\"6969568052_R02C01\",\"age44.561_F\"\n",
        "\"GSM1235536\",\"F\",50.869,\"6969568141_R03C01\",\"age50.869_F\"\n",
        "\"GSM1235537\",\"F\",46.858,\"6969568052_R01C02\",\"age46.858_F\"\n"
       ]
      }
     ],
     "prompt_number": 3
    },
    {
     "cell_type": "markdown",
     "metadata": {},
     "source": [
      "**Note** that the rows from `covariates.csv` match the column labels from the methylation file.\n",
      "\n",
      "Now we create a `feature_gen` function that yields Features that have a chrom, a position, and a numpy array of methylation values.\n",
      "\n",
      "These are clustered using [aclust](https://github.com/brentp/aclust) and yielded lazily."
     ]
    },
    {
     "cell_type": "code",
     "collapsed": false,
     "input": [
      "def feature_gen(fname):         \n",
      "    for i, toks in enumerate(ts.reader(fname, header=False)):\n",
      "        if i == 0: continue\n",
      "        chrom, pos = toks[0].split(\":\")\n",
      "        yield crystal.Feature(chrom, int(pos), crystal.logit(np.array(map(float, toks[1:]))))\n",
      "        \n",
      "# generate clusters lazily.\n",
      "cluster_iter =(c for c in mclust(feature_gen(methylation),\n",
      "                                max_dist=400, max_skip=1) if len(c) > 3)\n",
      "        "
     ],
     "language": "python",
     "metadata": {},
     "outputs": [],
     "prompt_number": 4
    },
    {
     "cell_type": "markdown",
     "metadata": {},
     "source": [
      "A cluster is basically just a list of Feature objects for positions with correlated methylation"
     ]
    },
    {
     "cell_type": "code",
     "collapsed": false,
     "input": [
      "first_cluster = next(cluster_iter)\n",
      "[repr(f) for f in first_cluster] "
     ],
     "language": "python",
     "metadata": {},
     "outputs": [
      {
       "metadata": {},
       "output_type": "pyout",
       "prompt_number": 5,
       "text": [
        "['Feature(chr1:869368)',\n",
        " 'Feature(chr1:870791)',\n",
        " 'Feature(chr1:870810)',\n",
        " 'Feature(chr1:870958)',\n",
        " 'Feature(chr1:871033)',\n",
        " 'Feature(chr1:871057)',\n",
        " 'Feature(chr1:871308)',\n",
        " 'Feature(chr1:871441)',\n",
        " 'Feature(chr1:871546)',\n",
        " 'Feature(chr1:871980)']"
       ]
      }
     ],
     "prompt_number": 5
    },
    {
     "cell_type": "markdown",
     "metadata": {},
     "source": [
      "We can see that the data in the cluster is highly correlated as expected:"
     ]
    },
    {
     "cell_type": "code",
     "collapsed": false,
     "input": [
      "np.corrcoef(first_cluster[0].values, first_cluster[1].values)[0, 1]"
     ],
     "language": "python",
     "metadata": {},
     "outputs": [
      {
       "metadata": {},
       "output_type": "pyout",
       "prompt_number": 6,
       "text": [
        "0.65079290599891393"
       ]
      }
     ],
     "prompt_number": 6
    },
    {
     "cell_type": "markdown",
     "metadata": {},
     "source": [
      "Now we want to model the cluster. We use a model in R / patsy syntax and a pandas dataframe for the covariates. With that, we can immediately get a p-value for the first cluster above:"
     ]
    },
    {
     "cell_type": "code",
     "collapsed": false,
     "input": [
      "formula = \"methylation ~ age + gender\"\n",
      "\n",
      "covs = pd.read_csv(covariates, index_col=0)\n",
      "covs['id'] = covs.index\n",
      "\n",
      "crystal.zscore_cluster(formula, np.array([x.values for x in first_cluster]), covs, \"age\")"
     ],
     "language": "python",
     "metadata": {},
     "outputs": [
      {
       "metadata": {},
       "output_type": "pyout",
       "prompt_number": 7,
       "text": [
        "{'coef': -0.0041512717909394838,\n",
        " 'covar': 'age',\n",
        " 'p': 0.0099542785297869734,\n",
        " 't': -2.281689898171412}"
       ]
      }
     ],
     "prompt_number": 7
    },
    {
     "cell_type": "markdown",
     "metadata": {},
     "source": [
      "We can do the same with different methods. Note that methods which do not model the CpG's separately should\n",
      "include \"CpG\" as a covariate in the model. It is added to the tested data automatically."
     ]
    },
    {
     "cell_type": "code",
     "collapsed": false,
     "input": [
      "crystal.liptak_cluster(formula, np.array([x.values for x in first_cluster]), covs, \"age\")"
     ],
     "language": "python",
     "metadata": {},
     "outputs": [
      {
       "metadata": {},
       "output_type": "pyout",
       "prompt_number": 8,
       "text": [
        "{'coef': -0.0041512717909394838,\n",
        " 'covar': 'age',\n",
        " 'p': 0.043977661847506122,\n",
        " 't': -2.281689898171412}"
       ]
      }
     ],
     "prompt_number": 8
    },
    {
     "cell_type": "code",
     "collapsed": false,
     "input": [
      "crystal.gee_cluster(formula + \" + CpG\" , np.array([x.values for x in first_cluster]), covs, \"age\")"
     ],
     "language": "python",
     "metadata": {},
     "outputs": [
      {
       "metadata": {},
       "output_type": "pyout",
       "prompt_number": 9,
       "text": [
        "{'coef': -0.0041512717909394717,\n",
        " 'covar': 'age',\n",
        " 'p': 0.00280057619883193,\n",
        " 't': -2.9888193951523276}"
       ]
      }
     ],
     "prompt_number": 9
    },
    {
     "cell_type": "markdown",
     "metadata": {},
     "source": [
      "Note that:\n",
      "\n",
      "1. the different methods come up with different p-values but the coefficient estimates are nearly identical. (the other notebook in this directory compares the specificity and sensitivity of these methods).\n",
      "2. every method takes the same arguments: formula, methylation, covariates, coefficient-of-interest\n",
      "\n",
      "So we could easily test gender as (note that it is very significant):"
     ]
    },
    {
     "cell_type": "code",
     "collapsed": false,
     "input": [
      "crystal.gee_cluster(formula + \" + CpG\" , np.array([x.values for x in first_cluster]), covs, \"gender\")"
     ],
     "language": "python",
     "metadata": {},
     "outputs": [
      {
       "metadata": {},
       "output_type": "pyout",
       "prompt_number": 10,
       "text": [
        "{'coef': 0.031459223658170957,\n",
        " 'covar': 'gender[T.M]',\n",
        " 'p': 0.21380547739935374,\n",
        " 't': 1.243169233938286}"
       ]
      }
     ],
     "prompt_number": 10
    },
    {
     "cell_type": "markdown",
     "metadata": {},
     "source": [
      "In general we don't want to mess around with a single cluster, we want to test every cluster. There is a simple calling function to do this:"
     ]
    },
    {
     "cell_type": "code",
     "collapsed": false,
     "input": [
      "header = \"{chrom}\\t{start}\\t{end}\\t{p:.4g}\\t{coef:.3f}\\t{n_sites}\"\n",
      "formula = \"methylation ~ age + gender + CpG\"\n",
      "print ts.fmt2header(header)\n",
      "for i, cluster in enumerate(crystal.model_clusters(cluster_iter, covs, formula, \"age\", crystal.gee_cluster, n_cpu=1)):\n",
      "    if i > 10: break\n",
      "    print header.format(**cluster)"
     ],
     "language": "python",
     "metadata": {},
     "outputs": [
      {
       "output_type": "stream",
       "stream": "stdout",
       "text": [
        "chrom\tstart\tend\tp\tcoef\tn_sites\n",
        "chr1\t946874\t947091\t0.03024\t0.002\t4"
       ]
      },
      {
       "output_type": "stream",
       "stream": "stdout",
       "text": [
        "\n",
        "chr1\t949391\t949893\t0.3414\t-0.001\t5"
       ]
      },
      {
       "output_type": "stream",
       "stream": "stdout",
       "text": [
        "\n",
        "chr1\t1003125\t1003529\t0.4792\t0.001\t4"
       ]
      },
      {
       "output_type": "stream",
       "stream": "stdout",
       "text": [
        "\n",
        "chr1\t1097269\t1098380\t3.235e-05\t-0.003\t4"
       ]
      },
      {
       "output_type": "stream",
       "stream": "stdout",
       "text": [
        "\n",
        "chr1\t1100034\t1100557\t0.0696\t-0.002\t5"
       ]
      },
      {
       "output_type": "stream",
       "stream": "stdout",
       "text": [
        "\n",
        "chr1\t1108819\t1109012\t0.427\t-0.001\t4"
       ]
      },
      {
       "output_type": "stream",
       "stream": "stdout",
       "text": [
        "\n",
        "chr1\t1148314\t1149501\t1.351e-05\t-0.005\t6"
       ]
      },
      {
       "output_type": "stream",
       "stream": "stdout",
       "text": [
        "\n",
        "chr1\t1157540\t1158081\t0.01291\t-0.002\t4"
       ]
      },
      {
       "output_type": "stream",
       "stream": "stdout",
       "text": [
        "\n",
        "chr1\t1195568\t1196747\t0.005361\t0.002\t4"
       ]
      },
      {
       "output_type": "stream",
       "stream": "stdout",
       "text": [
        "\n",
        "chr1\t1225780\t1227307\t0.8415\t0.000\t5"
       ]
      },
      {
       "output_type": "stream",
       "stream": "stdout",
       "text": [
        "\n",
        "chr1\t1229104\t1229589\t5.824e-05\t0.003\t5"
       ]
      },
      {
       "output_type": "stream",
       "stream": "stdout",
       "text": [
        "\n"
       ]
      }
     ],
     "prompt_number": 11
    },
    {
     "cell_type": "markdown",
     "metadata": {},
     "source": [
      "Note the `n_cpu` argument which will parallelize the model calling.\n",
      "\n",
      "We can see how similar those results are to using **another method** that combines p-values:"
     ]
    },
    {
     "cell_type": "code",
     "collapsed": false,
     "input": [
      "cluster_iter =(c for c in mclust(feature_gen(methylation),\n",
      "                                max_dist=400, max_skip=1) if len(c) > 3)\n",
      "next(cluster_iter) # discard first one as above\n",
      "\n",
      "formula = \"methylation ~ age + gender\"\n",
      "for i, cluster in enumerate(crystal.model_clusters(cluster_iter, covs, formula, \"age\", crystal.liptak_cluster, n_cpu=1)):\n",
      "    print header.format(**cluster)\n",
      "    if i > 9: break\n"
     ],
     "language": "python",
     "metadata": {},
     "outputs": [
      {
       "output_type": "stream",
       "stream": "stdout",
       "text": [
        "chr1\t946874\t947091\t0.119\t0.002\t4\n",
        "chr1\t949391\t949893\t0.6309\t-0.001\t5"
       ]
      },
      {
       "output_type": "stream",
       "stream": "stdout",
       "text": [
        "\n",
        "chr1\t1003125\t1003529\t0.3111\t0.001\t4"
       ]
      },
      {
       "output_type": "stream",
       "stream": "stdout",
       "text": [
        "\n",
        "chr1\t1097269\t1098380\t0.003953\t-0.003\t4"
       ]
      },
      {
       "output_type": "stream",
       "stream": "stdout",
       "text": [
        "\n",
        "chr1\t1100034\t1100557\t0.5455\t-0.002\t5"
       ]
      },
      {
       "output_type": "stream",
       "stream": "stdout",
       "text": [
        "\n",
        "chr1\t1108819\t1109012\t0.862\t-0.001\t4"
       ]
      },
      {
       "output_type": "stream",
       "stream": "stdout",
       "text": [
        "\n",
        "chr1\t1148314\t1149501\t0.005278\t-0.005\t6"
       ]
      },
      {
       "output_type": "stream",
       "stream": "stdout",
       "text": [
        "\n",
        "chr1\t1157540\t1158081\t0.1077\t-0.002\t4"
       ]
      },
      {
       "output_type": "stream",
       "stream": "stdout",
       "text": [
        "\n",
        "chr1\t1195568\t1196747\t0.2435\t0.002\t4"
       ]
      },
      {
       "output_type": "stream",
       "stream": "stdout",
       "text": [
        "\n",
        "chr1\t1225780\t1227307\t0.4064\t0.000\t5"
       ]
      },
      {
       "output_type": "stream",
       "stream": "stdout",
       "text": [
        "\n",
        "chr1\t1229104\t1229589\t0.001979\t0.003\t5"
       ]
      },
      {
       "output_type": "stream",
       "stream": "stdout",
       "text": [
        "\n"
       ]
      }
     ],
     "prompt_number": 12
    },
    {
     "cell_type": "markdown",
     "metadata": {},
     "source": [
      "We can see what is returned in a single cluster afer the modeling:"
     ]
    },
    {
     "cell_type": "code",
     "collapsed": false,
     "input": [
      "cluster"
     ],
     "language": "python",
     "metadata": {},
     "outputs": [
      {
       "metadata": {},
       "output_type": "pyout",
       "prompt_number": 13,
       "text": [
        "{'chrom': 'chr1',\n",
        " 'cluster': [Feature(chr1:1229105),\n",
        "  Feature(chr1:1229112),\n",
        "  Feature(chr1:1229351),\n",
        "  Feature(chr1:1229534),\n",
        "  Feature(chr1:1229589)],\n",
        " 'coef': 0.0033058325027113902,\n",
        " 'covar': 'age',\n",
        " 'end': 1229589,\n",
        " 'n_sites': 5,\n",
        " 'p': 0.0019790352140430082,\n",
        " 'sites': ['chr1:1229105',\n",
        "  'chr1:1229112',\n",
        "  'chr1:1229351',\n",
        "  'chr1:1229534',\n",
        "  'chr1:1229589'],\n",
        " 'start': 1229104,\n",
        " 't': 2.9431050008757316,\n",
        " 'time': 0.04524397850036621,\n",
        " 'var': 'age'}"
       ]
      }
     ],
     "prompt_number": 13
    },
    {
     "cell_type": "markdown",
     "metadata": {},
     "source": [
      "In general, regardless of the format of your input data, if you can make a generator like `feature_gen` above, that yields `Feature` objects in chromosome and position order, then it will be very simple to run these methods.\n",
      "\n",
      "See the included [minfi-norm.R](https://github.com/brentp/crystal/) for how to get your 450k data in a format where you can use the above without modification.\n",
      "\n",
      "Plotting\n",
      "--------\n",
      "\n",
      "Below, we show how to plot a single cluster. For dichotomous variables, such as `gender`, in this example, it will plot a histogram of the `methylation` values at each site. For continuous variables, such as `age` it will do a scatter plot vs `methylation`"
     ]
    },
    {
     "cell_type": "code",
     "collapsed": false,
     "input": [
      "cluster['var'] = 'gender'\n",
      "fig, axs = crystal.plot.plot_cluster(cluster, covs)\n",
      "cluster['var'] = 'age'\n",
      "fig, axs = crystal.plot.plot_cluster(cluster, covs)"
     ],
     "language": "python",
     "metadata": {},
     "outputs": [
      {
       "metadata": {},
       "output_type": "display_data",
       "png": "[encoded data removed]",
       "text": [
        "<matplotlib.figure.Figure at 0x2b6033c9d950>"
       ]
      },
      {
       "metadata": {},
       "output_type": "display_data",
       "png": "[encoded data removed]",
       "text": [
        "<matplotlib.figure.Figure at 0x2b605b09a8d0>"
       ]
      }
     ]
    },
    {
     "cell_type": "code",
     "collapsed": false,
     "input": [
      "# I run this to get a cluster that looks different by gender\n",
      "for i, cluster in enumerate(crystal.model_clusters(cluster_iter, covs, formula, \"gender\", crystal.gee_cluster, n_cpu=3)):\n",
      "    #print header.format(**cluster)\n",
      "    if cluster['p'] < 1e-5 and abs(cluster['coef']) > 0.25: break\n",
      "        \n",
      "_ = crystal.plot.plot_cluster(cluster, covs)        \n",
      "               "
     ],
     "language": "python",
     "metadata": {},
     "outputs": []
    },
    {
     "cell_type": "code",
     "collapsed": false,
     "input": [
      "cluster"
     ],
     "language": "python",
     "metadata": {},
     "outputs": []
    },
    {
     "cell_type": "markdown",
     "metadata": {},
     "source": [
      "In the case of a dichotomous covariate, we can make a nice horizontal bar plot with the genomic positions increasing along the x-axis and the distribution of each group plotted in histograms to the left/right of the position:\n"
     ]
    },
    {
     "cell_type": "code",
     "collapsed": false,
     "input": [
      "cluster['var'] = 'gender'\n",
      "ff, ax = crystal.plot.barplot_cluster(cluster, covs, n_bins=100);"
     ],
     "language": "python",
     "metadata": {},
     "outputs": []
    },
    {
     "cell_type": "markdown",
     "metadata": {},
     "source": [
      "Remember, we can modle a cluster using a variety of methods, simply by using a different function call:"
     ]
    },
    {
     "cell_type": "code",
     "collapsed": false,
     "input": [
      "methylation = np.array([x.values for x in cluster['cluster']])\n",
      "crystal.gee_cluster(formula + \" + CpG\" , methylation, covs, \"gender\")"
     ],
     "language": "python",
     "metadata": {},
     "outputs": []
    },
    {
     "cell_type": "code",
     "collapsed": false,
     "input": [
      "crystal.ols_cluster_robust(formula + \" + CpG\", methylation, covs, \"gender\")"
     ],
     "language": "python",
     "metadata": {},
     "outputs": []
    },
    {
     "cell_type": "code",
     "collapsed": false,
     "input": [
      "crystal.glsar_cluster(formula + \" + CpG\", methylation, covs, \"gender\")"
     ],
     "language": "python",
     "metadata": {},
     "outputs": []
    },
    {
     "cell_type": "code",
     "collapsed": false,
     "input": [
      "crystal.liptak_cluster(formula, methylation, covs, \"gender\")"
     ],
     "language": "python",
     "metadata": {},
     "outputs": []
    },
    {
     "cell_type": "code",
     "collapsed": false,
     "input": [
      "crystal.liptak_cluster(formula, methylation, covs, \"gender\", robust=True)"
     ],
     "language": "python",
     "metadata": {},
     "outputs": []
    }
   ],
   "metadata": {}
  }
 ]
}