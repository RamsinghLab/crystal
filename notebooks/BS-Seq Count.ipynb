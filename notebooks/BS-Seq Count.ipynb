{
 "metadata": {
  "name": "",
  "signature": "sha256:0c7d2c22ad28787a48b0ba7a82bd0af1b8d4f288408ca1467e0e1fe4fade99b9"
 },
 "nbformat": 3,
 "nbformat_minor": 0,
 "worksheets": [
  {
   "cells": [
    {
     "cell_type": "code",
     "collapsed": false,
     "input": [
      "%matplotlib inline\n",
      "import crystal\n",
      "import toolshed as ts\n",
      "import aclust\n",
      "\n",
      "import numpy as np\n",
      "import pandas as pd\n",
      "\n",
      "methylated_file = \"/drive/450k/mthfr/methylated.txt.gz\"\n",
      "counts_file = \"/drive/450k/mthfr/counts.txt.gz\"\n",
      "covs_file = \"/drive/450k/mthfr/covs.Control_Saline-vs-MTHFR-Saline.txt\""
     ],
     "language": "python",
     "metadata": {},
     "outputs": [],
     "prompt_number": 1
    },
    {
     "cell_type": "code",
     "collapsed": false,
     "input": [
      "from itertools import izip\n",
      "\n",
      "def feature_gen(methylated, counts):\n",
      "    fhm = ts.reader(methylated, header=False)\n",
      "    fhc = ts.reader(counts, header=False)\n",
      "    next(fhm), next(fhc) # drop headers\n",
      "    for m, c in izip(fhm, fhc):\n",
      "        assert m[0] == c[0]\n",
      "        chrom, pos = m[0].split(\":\")\n",
      "        counts = np.array(int(co) for co in c[1:])\n",
      "        if counts.sum() < 5: continue\n",
      "        yield crystal.CountFeature(chrom, int(pos), np.array([int(me) for me in m[1:]]),\n",
      "                                                    np.array([int(co) for co in c[1:]]))"
     ],
     "language": "python",
     "metadata": {},
     "outputs": [],
     "prompt_number": 2
    },
    {
     "cell_type": "code",
     "collapsed": false,
     "input": [
      "def get_cluster_iter(min_len=3):\n",
      "    return (c for c in aclust.mclust(feature_gen(methylated_file, counts_file),\n",
      "                              max_dist=300, max_skip=0) if len(c) >= min_len)\n",
      "\n",
      "covs = pd.read_table(covs_file)\n",
      "covs['trt'] = (covs.Group == \"MTHFRKO\").astype(int)\n",
      "covs"
     ],
     "language": "python",
     "metadata": {},
     "outputs": [
      {
       "html": [
        "<div style=\"max-height:1000px;max-width:1500px;overflow:auto;\">\n",
        "<table border=\"1\" class=\"dataframe\">\n",
        "  <thead>\n",
        "    <tr style=\"text-align: right;\">\n",
        "      <th></th>\n",
        "      <th>Sample</th>\n",
        "      <th>Group</th>\n",
        "      <th>Treatment</th>\n",
        "      <th>Normalized.cell.count</th>\n",
        "      <th>Eos</th>\n",
        "      <th>trt</th>\n",
        "    </tr>\n",
        "  </thead>\n",
        "  <tbody>\n",
        "    <tr>\n",
        "      <th>0 </th>\n",
        "      <td> 38378</td>\n",
        "      <td> Control</td>\n",
        "      <td> Saline</td>\n",
        "      <td> 36100</td>\n",
        "      <td> 4720</td>\n",
        "      <td> 0</td>\n",
        "    </tr>\n",
        "    <tr>\n",
        "      <th>1 </th>\n",
        "      <td> 38387</td>\n",
        "      <td> Control</td>\n",
        "      <td> Saline</td>\n",
        "      <td> 20200</td>\n",
        "      <td>  202</td>\n",
        "      <td> 0</td>\n",
        "    </tr>\n",
        "    <tr>\n",
        "      <th>2 </th>\n",
        "      <td> 38395</td>\n",
        "      <td> Control</td>\n",
        "      <td> Saline</td>\n",
        "      <td> 28900</td>\n",
        "      <td>  145</td>\n",
        "      <td> 0</td>\n",
        "    </tr>\n",
        "    <tr>\n",
        "      <th>3 </th>\n",
        "      <td> 38401</td>\n",
        "      <td> Control</td>\n",
        "      <td> Saline</td>\n",
        "      <td> 18700</td>\n",
        "      <td>    0</td>\n",
        "      <td> 0</td>\n",
        "    </tr>\n",
        "    <tr>\n",
        "      <th>4 </th>\n",
        "      <td> 38474</td>\n",
        "      <td> Control</td>\n",
        "      <td> Saline</td>\n",
        "      <td> 77800</td>\n",
        "      <td>    0</td>\n",
        "      <td> 0</td>\n",
        "    </tr>\n",
        "    <tr>\n",
        "      <th>5 </th>\n",
        "      <td> 38480</td>\n",
        "      <td> MTHFRKO</td>\n",
        "      <td> Saline</td>\n",
        "      <td> 74600</td>\n",
        "      <td>  746</td>\n",
        "      <td> 1</td>\n",
        "    </tr>\n",
        "    <tr>\n",
        "      <th>6 </th>\n",
        "      <td> 38481</td>\n",
        "      <td> MTHFRKO</td>\n",
        "      <td> Saline</td>\n",
        "      <td> 23800</td>\n",
        "      <td> 1070</td>\n",
        "      <td> 1</td>\n",
        "    </tr>\n",
        "    <tr>\n",
        "      <th>7 </th>\n",
        "      <td> 38484</td>\n",
        "      <td> Control</td>\n",
        "      <td> Saline</td>\n",
        "      <td> 69200</td>\n",
        "      <td>    0</td>\n",
        "      <td> 0</td>\n",
        "    </tr>\n",
        "    <tr>\n",
        "      <th>8 </th>\n",
        "      <td> 38490</td>\n",
        "      <td> MTHFRKO</td>\n",
        "      <td> Saline</td>\n",
        "      <td> 54000</td>\n",
        "      <td>    0</td>\n",
        "      <td> 1</td>\n",
        "    </tr>\n",
        "    <tr>\n",
        "      <th>9 </th>\n",
        "      <td> 38492</td>\n",
        "      <td> MTHFRKO</td>\n",
        "      <td> Saline</td>\n",
        "      <td> 32400</td>\n",
        "      <td>    0</td>\n",
        "      <td> 1</td>\n",
        "    </tr>\n",
        "    <tr>\n",
        "      <th>10</th>\n",
        "      <td> 38493</td>\n",
        "      <td> MTHFRKO</td>\n",
        "      <td> Saline</td>\n",
        "      <td>  5920</td>\n",
        "      <td>    0</td>\n",
        "      <td> 1</td>\n",
        "    </tr>\n",
        "  </tbody>\n",
        "</table>\n",
        "</div>"
       ],
       "metadata": {},
       "output_type": "pyout",
       "prompt_number": 3,
       "text": [
        "    Sample    Group Treatment  Normalized.cell.count   Eos  trt\n",
        "0    38378  Control    Saline                  36100  4720    0\n",
        "1    38387  Control    Saline                  20200   202    0\n",
        "2    38395  Control    Saline                  28900   145    0\n",
        "3    38401  Control    Saline                  18700     0    0\n",
        "4    38474  Control    Saline                  77800     0    0\n",
        "5    38480  MTHFRKO    Saline                  74600   746    1\n",
        "6    38481  MTHFRKO    Saline                  23800  1070    1\n",
        "7    38484  Control    Saline                  69200     0    0\n",
        "8    38490  MTHFRKO    Saline                  54000     0    1\n",
        "9    38492  MTHFRKO    Saline                  32400     0    1\n",
        "10   38493  MTHFRKO    Saline                   5920     0    1"
       ]
      }
     ]
    },
    {
     "cell_type": "code",
     "collapsed": false,
     "input": [
      "for r in crystal.model_clusters(get_cluster_iter(), covs, \"methylation ~ trt\", \"trt\", model_fn=crystal.nb_cluster,\n",
      "                                n_cpu=1, as_feature=True):\n",
      "    if r['p'] < 1e-7:\n",
      "        print r"
     ],
     "language": "python",
     "metadata": {},
     "outputs": [
      {
       "output_type": "stream",
       "stream": "stdout",
       "text": [
        "{'n_sites': 3, 'end': 20928467, 'coef': -17.71367491922409, 'sites': ['chr1:20928339', 'chr1:20928357', 'chr1:20928467'], 'covar': 'trt', 'p': 2.8777212325311154e-08, 't': -5.5487178669596187, 'time': 0.03800797462463379, 'var': 'trt', 'chrom': 'chr1', 'start': 20928338, 'cluster': [CountFeature(chr1:20928339), CountFeature(chr1:20928357), CountFeature(chr1:20928467)]}\n",
        "{'n_sites': 3, 'end': 33742776, 'coef': -9.6403935036923816, 'sites': ['chr1:33742746', 'chr1:33742769', 'chr1:33742776'], 'covar': 'trt', 'p': 6.4893254552888611e-09, 't': -4.6809493552188437, 'time': 0.07914280891418457, 'var': 'trt', 'chrom': 'chr1', 'start': 33742745, 'cluster': [CountFeature(chr1:33742746), CountFeature(chr1:33742769), CountFeature(chr1:33742776)]}"
       ]
      },
      {
       "output_type": "stream",
       "stream": "stdout",
       "text": [
        "\n",
        "{'n_sites': 3, 'end': 36854281, 'coef': -13.780128489174393, 'sites': ['chr1:36854217', 'chr1:36854244', 'chr1:36854281'], 'covar': 'trt', 'p': 5.8857585436918502e-10, 't': -4.7803253303250282, 'time': 0.09702682495117188, 'var': 'trt', 'chrom': 'chr1', 'start': 36854216, 'cluster': [CountFeature(chr1:36854217), CountFeature(chr1:36854244), CountFeature(chr1:36854281)]}"
       ]
      },
      {
       "output_type": "stream",
       "stream": "stdout",
       "text": [
        "\n",
        "{'n_sites': 3, 'end': 64731895, 'coef': -11.919493094419096, 'sites': ['chr1:64731891', 'chr1:64731893', 'chr1:64731895'], 'covar': 'trt', 'p': 3.5934428068185652e-09, 't': -4.8893235506144377, 'time': 0.09188389778137207, 'var': 'trt', 'chrom': 'chr1', 'start': 64731890, 'cluster': [CountFeature(chr1:64731891), CountFeature(chr1:64731893), CountFeature(chr1:64731895)]}"
       ]
      },
      {
       "output_type": "stream",
       "stream": "stdout",
       "text": [
        "\n",
        "{'n_sites': 5, 'end': 77440787, 'coef': -19.022805594101332, 'sites': ['chr1:77440608', 'chr1:77440700', 'chr1:77440737', 'chr1:77440748', 'chr1:77440787'], 'covar': 'trt', 'p': 1.1847501071326967e-13, 't': -5.9178385746752618, 'time': 0.14836788177490234, 'var': 'trt', 'chrom': 'chr1', 'start': 77440607, 'cluster': [CountFeature(chr1:77440608), CountFeature(chr1:77440700), CountFeature(chr1:77440737), CountFeature(chr1:77440748), CountFeature(chr1:77440787)]}"
       ]
      },
      {
       "output_type": "stream",
       "stream": "stdout",
       "text": [
        "\n",
        "{'n_sites': 4, 'end': 87089616, 'coef': -12.171771451141467, 'sites': ['chr1:87089513', 'chr1:87089570', 'chr1:87089581', 'chr1:87089616'], 'covar': 'trt', 'p': 8.7563883886584658e-11, 't': -4.9931201083456989, 'time': 0.10640501976013184, 'var': 'trt', 'chrom': 'chr1', 'start': 87089512, 'cluster': [CountFeature(chr1:87089513), CountFeature(chr1:87089570), CountFeature(chr1:87089581), CountFeature(chr1:87089616)]}"
       ]
      }
     ]
    },
    {
     "cell_type": "code",
     "collapsed": false,
     "input": [
      "r['p']"
     ],
     "language": "python",
     "metadata": {},
     "outputs": []
    },
    {
     "cell_type": "code",
     "collapsed": false,
     "input": [],
     "language": "python",
     "metadata": {},
     "outputs": []
    }
   ],
   "metadata": {}
  }
 ]
}