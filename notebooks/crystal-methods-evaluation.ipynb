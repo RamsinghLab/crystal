{
 "metadata": {
  "name": "",
  "signature": "sha256:f41b110a016a561b89ece832d59ef2f5442a22d234412e20746d92f500974dc2"
 },
 "nbformat": 3,
 "nbformat_minor": 0,
 "worksheets": [
  {
   "cells": [
    {
     "cell_type": "markdown",
     "metadata": {},
     "source": [
      "Evaluation\n",
      "==========\n",
      "\n",
      "In this document, we evaluate the above methods on a real dataset. We also create data that should serve as true-negatives by shuffling the observed data. In this way, we can evaluate sensitivity by the number of DMR's found for a given $\\alpha$ by the number of DMR's that meet that cutoff in the real dataset. Likewise, we can evaluate the specificity (actually the false positives) by finding the number of DMR's that meet a given cutoff in the shuffled data."
     ]
    },
    {
     "cell_type": "code",
     "collapsed": false,
     "input": [
      "%matplotlib inline\n",
      "\n",
      "import toolshed as ts\n",
      "import itertools as it\n",
      "import numpy as np\n",
      "import pandas as pd\n",
      "import seaborn as sns\n",
      "\n",
      "from crystal import gee_cluster, mixed_model_cluster, liptak_cluster, zscore_cluster, bump_cluster, ols_cluster_robust\n",
      "from crystal import evaluate_method, Feature, logit\n",
      "from aclust import mclust # to create correlated clusters"
     ],
     "language": "python",
     "metadata": {},
     "outputs": [],
     "prompt_number": 15
    },
    {
     "cell_type": "markdown",
     "metadata": {},
     "source": [
      "We need a generator that reads data and generates features to sent to aclust"
     ]
    },
    {
     "cell_type": "code",
     "collapsed": false,
     "input": [
      "N = 400\n",
      "\n",
      "def feature_gen(fname):         \n",
      "    for i, toks in enumerate(ts.reader(fname, header=False)):\n",
      "        if i == 0: continue\n",
      "        chrom, pos = toks[0].split(\":\")\n",
      "        yield Feature(chrom, int(pos), logit(np.array(map(float, toks[1:N + 1]))))"
     ],
     "language": "python",
     "metadata": {},
     "outputs": [],
     "prompt_number": 16
    },
    {
     "cell_type": "markdown",
     "metadata": {},
     "source": [
      "Our input data is a methylation matrix (rows of probes and columns of samples). Here, we have encoded the position into the row names, but you can also add these on the fly as you stream over the data."
     ]
    },
    {
     "cell_type": "code",
     "collapsed": false,
     "input": [
      "methylation_file = \"/drive/450k/norm.beta.txt.gz\"\n",
      "covariates_file = \"covariates.csv\""
     ],
     "language": "python",
     "metadata": {},
     "outputs": [],
     "prompt_number": 17
    },
    {
     "cell_type": "code",
     "collapsed": false,
     "input": [
      "# a function to restart the cluster generation each time.\n",
      "def get_cluster_iter():\n",
      "    return (c for c in mclust(feature_gen(methylation_file),\n",
      "                                max_dist=400, max_skip=1) if len(c) > 2)\n"
     ],
     "language": "python",
     "metadata": {},
     "outputs": [],
     "prompt_number": 18
    },
    {
     "cell_type": "markdown",
     "metadata": {},
     "source": [
      "Mclust returns an iterator of clusters given an iterator of features. The clusters are have correlated methylation. The clustering is done without knowing the study design so it is unbiased.\n",
      "\n",
      "Each cluster is a list of features from your own feature_gen()"
     ]
    },
    {
     "cell_type": "code",
     "collapsed": false,
     "input": [
      "c = next(get_cluster_iter())\n",
      "print len(c[0].values)\n",
      "[repr(f) for f in c] "
     ],
     "language": "python",
     "metadata": {},
     "outputs": [
      {
       "output_type": "stream",
       "stream": "stdout",
       "text": [
        "400\n"
       ]
      },
      {
       "metadata": {},
       "output_type": "pyout",
       "prompt_number": 19,
       "text": [
        "['Feature(chr1:870791)',\n",
        " 'Feature(chr1:870810)',\n",
        " 'Feature(chr1:870958)',\n",
        " 'Feature(chr1:871033)',\n",
        " 'Feature(chr1:871057)',\n",
        " 'Feature(chr1:871308)',\n",
        " 'Feature(chr1:871441)',\n",
        " 'Feature(chr1:871546)']"
       ]
      }
     ],
     "prompt_number": 19
    },
    {
     "cell_type": "markdown",
     "metadata": {},
     "source": [
      "Now we need to define our model and read in our covariates"
     ]
    },
    {
     "cell_type": "code",
     "collapsed": false,
     "input": [
      "covs = pd.read_csv(covariates_file, index_col=0).ix[:N, :]\n",
      "covs['id'] = covs.index\n",
      "formula = \"methylation ~ age + gender\""
     ],
     "language": "python",
     "metadata": {},
     "outputs": [],
     "prompt_number": 20
    },
    {
     "cell_type": "code",
     "collapsed": false,
     "input": [
      "print covs.gender.value_counts()\n",
      "covs.head()"
     ],
     "language": "python",
     "metadata": {},
     "outputs": [
      {
       "output_type": "stream",
       "stream": "stdout",
       "text": [
        "F    310\n",
        "M     90\n",
        "dtype: int64\n"
       ]
      },
      {
       "html": [
        "<div style=\"max-height:1000px;max-width:1500px;overflow:auto;\">\n",
        "<table border=\"1\" class=\"dataframe\">\n",
        "  <thead>\n",
        "    <tr style=\"text-align: right;\">\n",
        "      <th></th>\n",
        "      <th>gender</th>\n",
        "      <th>age</th>\n",
        "      <th>Basename</th>\n",
        "      <th>ID</th>\n",
        "      <th>id</th>\n",
        "    </tr>\n",
        "  </thead>\n",
        "  <tbody>\n",
        "    <tr>\n",
        "      <th>GSM1235534</th>\n",
        "      <td> F</td>\n",
        "      <td> 54.322</td>\n",
        "      <td> 6969568099_R02C02</td>\n",
        "      <td> age54.322_F</td>\n",
        "      <td> GSM1235534</td>\n",
        "    </tr>\n",
        "    <tr>\n",
        "      <th>GSM1235535</th>\n",
        "      <td> F</td>\n",
        "      <td> 44.561</td>\n",
        "      <td> 6969568052_R02C01</td>\n",
        "      <td> age44.561_F</td>\n",
        "      <td> GSM1235535</td>\n",
        "    </tr>\n",
        "    <tr>\n",
        "      <th>GSM1235536</th>\n",
        "      <td> F</td>\n",
        "      <td> 50.869</td>\n",
        "      <td> 6969568141_R03C01</td>\n",
        "      <td> age50.869_F</td>\n",
        "      <td> GSM1235536</td>\n",
        "    </tr>\n",
        "    <tr>\n",
        "      <th>GSM1235537</th>\n",
        "      <td> F</td>\n",
        "      <td> 46.858</td>\n",
        "      <td> 6969568052_R01C02</td>\n",
        "      <td> age46.858_F</td>\n",
        "      <td> GSM1235537</td>\n",
        "    </tr>\n",
        "    <tr>\n",
        "      <th>GSM1235538</th>\n",
        "      <td> F</td>\n",
        "      <td> 56.192</td>\n",
        "      <td> 7766130010_R05C01</td>\n",
        "      <td> age56.192_F</td>\n",
        "      <td> GSM1235538</td>\n",
        "    </tr>\n",
        "  </tbody>\n",
        "</table>\n",
        "</div>"
       ],
       "metadata": {},
       "output_type": "pyout",
       "prompt_number": 21,
       "text": [
        "           gender     age           Basename           ID          id\n",
        "GSM1235534      F  54.322  6969568099_R02C02  age54.322_F  GSM1235534\n",
        "GSM1235535      F  44.561  6969568052_R02C01  age44.561_F  GSM1235535\n",
        "GSM1235536      F  50.869  6969568141_R03C01  age50.869_F  GSM1235536\n",
        "GSM1235537      F  46.858  6969568052_R01C02  age46.858_F  GSM1235537\n",
        "GSM1235538      F  56.192  7766130010_R05C01  age56.192_F  GSM1235538"
       ]
      }
     ],
     "prompt_number": 21
    },
    {
     "cell_type": "markdown",
     "metadata": {},
     "source": [
      "Our analysis will be looking for DMRs related to age we run a number of methods, repeat some under robust regression, and the evaluate the results:"
     ]
    },
    {
     "cell_type": "code",
     "collapsed": false,
     "input": [
      "# number of \"true\" and \"false\" DMRs to generate\n",
      "nclusters = 2500\n",
      "\n",
      "# just do this once since it takes some time.\n",
      "clusters = [c for i, c in it.izip(range(nclusters), get_cluster_iter())]"
     ],
     "language": "python",
     "metadata": {},
     "outputs": [],
     "prompt_number": 22
    },
    {
     "cell_type": "code",
     "collapsed": false,
     "input": [
      "np.random.seed(42)\n",
      "formula = \"methylation ~ age + gender\"\n",
      "\n",
      "coef = 'age'\n",
      "\n",
      "results = list(it.starmap(evaluate_method, ((clusters, covs, formula, coef, fn) \\\n",
      "                                        for fn in (zscore_cluster, liptak_cluster)))) \n",
      "#\"\"\"\n",
      "for fn in (liptak_cluster, zscore_cluster):\n",
      "     res = evaluate_method(clusters, covs, formula, coef, fn, robust=True)\n",
      "     res['method'] += \" robust\"\n",
      "     results.append(res)\n",
      "#\"\"\"\n",
      "\n",
      "formula = \"methylation ~ age + gender + CpG\"\n",
      "results.extend(it.starmap(evaluate_method, ((clusters, covs, formula, coef, fn) \\\n",
      "                                        for fn in (gee_cluster, ols_cluster_robust, mixed_model_cluster)))) \n",
      "\n",
      "\n",
      "\n",
      "results = pd.DataFrame(results)\n",
      "# put data in long format\n",
      "results = pd.melt(results,\n",
      "        id_vars=[c for c in results.columns if not ('false' in c or 'true' in c)],\n",
      "        value_vars=[c for c in results.columns if 'false' in c or 'true' in\n",
      "            c], value_name='n_lt_alpha')\n",
      "results['alpha'] = [10**-int(x.split(\"_\")[1]) for x in results['variable']]\n",
      "results['truth'] = [x.split('_')[0] for x in results['variable']]"
     ],
     "language": "python",
     "metadata": {},
     "outputs": [
      {
       "output_type": "stream",
       "stream": "stderr",
       "text": [
        "/usr/local/lib/python2.7/dist-packages/statsmodels-0.6.0-py2.7-linux-x86_64.egg/statsmodels/regression/mixed_linear_model.py:1477: ConvergenceWarning: The MLE may be on the boundary of the parameter space.\n",
        "  warnings.warn(msg, ConvergenceWarning)\n",
        "/usr/local/lib/python2.7/dist-packages/statsmodels-0.6.0-py2.7-linux-x86_64.egg/statsmodels/regression/mixed_linear_model.py:1477: ConvergenceWarning: The MLE may be on the boundary of the parameter space.\n",
        "  warnings.warn(msg, ConvergenceWarning)\n"
       ]
      },
      {
       "output_type": "stream",
       "stream": "stderr",
       "text": [
        "/usr/local/lib/python2.7/dist-packages/statsmodels-0.6.0-py2.7-linux-x86_64.egg/statsmodels/regression/mixed_linear_model.py:1477: ConvergenceWarning: The MLE may be on the boundary of the parameter space.\n",
        "  warnings.warn(msg, ConvergenceWarning)\n",
        "/usr/local/lib/python2.7/dist-packages/statsmodels-0.6.0-py2.7-linux-x86_64.egg/statsmodels/regression/mixed_linear_model.py:1477: ConvergenceWarning: The MLE may be on the boundary of the parameter space.\n",
        "  warnings.warn(msg, ConvergenceWarning)\n"
       ]
      }
     ],
     "prompt_number": 23
    },
    {
     "cell_type": "code",
     "collapsed": false,
     "input": [
      "import matplotlib.pyplot as plt\n",
      "sns.set(style=\"white\", context=\"talk\")\n",
      "\n",
      "r = results[results.alpha < 0.01]\n",
      "fig, axs = plt.subplots(2, 1, figsize=(10, 8), sharex=True)\n",
      "colors = sns.color_palette(\"Set1\", 8)\n",
      "\n",
      "methods = list(r.method.unique())\n",
      "\n",
      "for j, truth in enumerate((\"true\", \"false\")):\n",
      "    shapes = []\n",
      "    for i, m in enumerate(methods):\n",
      "        xx = -np.log10(r.alpha[(r.truth == truth) & (r.method == m)])\n",
      "        y = r.n_lt_alpha[(r.truth == truth) & (r.method == m)]\n",
      "        f = axs[j].bar(left=xx+i/9. - 0.28, height=y, width=0.1, fc=colors[i], ec=colors[i])\n",
      "        shapes.append(f[0])\n",
      "        axs[j].set_xlim(2.5, 7.5)\n",
      "\n",
      "axs[1].legend(shapes, [x.replace(\"_\", \" \").replace(\" cluster\", \"\") for x in methods])\n",
      "axs[1].set_xticks(xx.unique())\n",
      "axs[1].set_xticklabels(['1e-%s' % x for x in range(3, 8)])\n",
      "axs[1].set_xlabel('$a$')\n",
      "\n",
      "axs[1].set_ylabel('false positives')\n",
      "axs[0].set_ylabel('true positivies')\n",
      "\n",
      "plt.show()"
     ],
     "language": "python",
     "metadata": {},
     "outputs": [
      {
       "metadata": {},
       "output_type": "display_data",
       "png": "[encoded data removed]",
       "text": [
        "<matplotlib.figure.Figure at 0x2b10a6ce9e50>"
       ]
      }
     ],
     "prompt_number": 24
    },
    {
     "cell_type": "code",
     "collapsed": false,
     "input": [
      "ymax = int(np.log10(1000))\n",
      "print ymax\n",
      "fig, ax = plt.subplots()\n",
      "clean_methods = [x.replace('_cluster', '').replace(\"_\", ' ') for x in methods]\n",
      "\n",
      "times = dict(results.groupby('method')['time'].aggregate(np.max))\n",
      "shapes = []\n",
      "for i, t in enumerate(times[m] for m in methods):  \n",
      "    s = ax.bar(i + 0.08, height=np.log10(1 + float(t) / 60.), width=0.85, fc=colors[i])\n",
      "    shapes.append(s[0])\n",
      "ax.set_yticks(range(ymax))\n",
      "ax.set_yticklabels([\"%i\" % (10**i) for i in range(ymax)])\n",
      "ax.set_title('CPU time (minutes)')       \n",
      "ax.set_xticks([]) # x + 0.4 for x in range(len(methods))])\n",
      "#ax.set_xticklabels(clean_methods)\n",
      "ax.legend(shapes, clean_methods, loc=\"upper left\");"
     ],
     "language": "python",
     "metadata": {},
     "outputs": [
      {
       "output_type": "stream",
       "stream": "stdout",
       "text": [
        "3\n"
       ]
      },
      {
       "metadata": {},
       "output_type": "display_data",
       "png": "[encoded data removed]",
       "text": [
        "<matplotlib.figure.Figure at 0x2b10a6e9d350>"
       ]
      }
     ],
     "prompt_number": 25
    },
    {
     "cell_type": "code",
     "collapsed": false,
     "input": [
      "results.head()"
     ],
     "language": "python",
     "metadata": {},
     "outputs": [
      {
       "html": [
        "<div style=\"max-height:1000px;max-width:1500px;overflow:auto;\">\n",
        "<table border=\"1\" class=\"dataframe\">\n",
        "  <thead>\n",
        "    <tr style=\"text-align: right;\">\n",
        "      <th></th>\n",
        "      <th>formula</th>\n",
        "      <th>method</th>\n",
        "      <th>null-ps</th>\n",
        "      <th>time</th>\n",
        "      <th>variable</th>\n",
        "      <th>n_lt_alpha</th>\n",
        "      <th>alpha</th>\n",
        "      <th>truth</th>\n",
        "    </tr>\n",
        "  </thead>\n",
        "  <tbody>\n",
        "    <tr>\n",
        "      <th>0</th>\n",
        "      <td>       methylation ~ age + gender</td>\n",
        "      <td>        zscore_cluster</td>\n",
        "      <td> [0.163603798218, 0.358159871886, 0.73678957957...</td>\n",
        "      <td>  155.480983</td>\n",
        "      <td> false_0</td>\n",
        "      <td> 2500</td>\n",
        "      <td> 1</td>\n",
        "      <td> false</td>\n",
        "    </tr>\n",
        "    <tr>\n",
        "      <th>1</th>\n",
        "      <td>       methylation ~ age + gender</td>\n",
        "      <td>        liptak_cluster</td>\n",
        "      <td> [0.448873831369, 0.0264943324037, 0.9884488270...</td>\n",
        "      <td>  155.943258</td>\n",
        "      <td> false_0</td>\n",
        "      <td> 2500</td>\n",
        "      <td> 1</td>\n",
        "      <td> false</td>\n",
        "    </tr>\n",
        "    <tr>\n",
        "      <th>2</th>\n",
        "      <td>       methylation ~ age + gender</td>\n",
        "      <td> liptak_cluster robust</td>\n",
        "      <td> [0.120562003454, 0.745451975659, 0.11864670824...</td>\n",
        "      <td>  281.105530</td>\n",
        "      <td> false_0</td>\n",
        "      <td> 2500</td>\n",
        "      <td> 1</td>\n",
        "      <td> false</td>\n",
        "    </tr>\n",
        "    <tr>\n",
        "      <th>3</th>\n",
        "      <td>       methylation ~ age + gender</td>\n",
        "      <td> zscore_cluster robust</td>\n",
        "      <td> [0.319715457051, 0.57216878089, 0.878461337012...</td>\n",
        "      <td>  154.472045</td>\n",
        "      <td> false_0</td>\n",
        "      <td> 2500</td>\n",
        "      <td> 1</td>\n",
        "      <td> false</td>\n",
        "    </tr>\n",
        "    <tr>\n",
        "      <th>4</th>\n",
        "      <td> methylation ~ age + gender + CpG</td>\n",
        "      <td>           gee_cluster</td>\n",
        "      <td> [0.338386027829, 0.0864453255701, 0.9832178508...</td>\n",
        "      <td> 1334.635786</td>\n",
        "      <td> false_0</td>\n",
        "      <td> 2500</td>\n",
        "      <td> 1</td>\n",
        "      <td> false</td>\n",
        "    </tr>\n",
        "  </tbody>\n",
        "</table>\n",
        "</div>"
       ],
       "metadata": {},
       "output_type": "pyout",
       "prompt_number": 26,
       "text": [
        "                            formula                 method  \\\n",
        "0        methylation ~ age + gender         zscore_cluster   \n",
        "1        methylation ~ age + gender         liptak_cluster   \n",
        "2        methylation ~ age + gender  liptak_cluster robust   \n",
        "3        methylation ~ age + gender  zscore_cluster robust   \n",
        "4  methylation ~ age + gender + CpG            gee_cluster   \n",
        "\n",
        "                                             null-ps         time variable  \\\n",
        "0  [0.163603798218, 0.358159871886, 0.73678957957...   155.480983  false_0   \n",
        "1  [0.448873831369, 0.0264943324037, 0.9884488270...   155.943258  false_0   \n",
        "2  [0.120562003454, 0.745451975659, 0.11864670824...   281.105530  false_0   \n",
        "3  [0.319715457051, 0.57216878089, 0.878461337012...   154.472045  false_0   \n",
        "4  [0.338386027829, 0.0864453255701, 0.9832178508...  1334.635786  false_0   \n",
        "\n",
        "   n_lt_alpha  alpha  truth  \n",
        "0        2500      1  false  \n",
        "1        2500      1  false  \n",
        "2        2500      1  false  \n",
        "3        2500      1  false  \n",
        "4        2500      1  false  "
       ]
      }
     ],
     "prompt_number": 26
    },
    {
     "cell_type": "code",
     "collapsed": false,
     "input": [
      "len(results['null-ps'][results.shape[0] - 1])"
     ],
     "language": "python",
     "metadata": {},
     "outputs": [
      {
       "metadata": {},
       "output_type": "pyout",
       "prompt_number": 27,
       "text": [
        "2500"
       ]
      }
     ],
     "prompt_number": 27
    },
    {
     "cell_type": "code",
     "collapsed": false,
     "input": [
      "len(clusters)"
     ],
     "language": "python",
     "metadata": {},
     "outputs": [
      {
       "metadata": {},
       "output_type": "pyout",
       "prompt_number": 28,
       "text": [
        "2500"
       ]
      }
     ],
     "prompt_number": 28
    },
    {
     "cell_type": "code",
     "collapsed": false,
     "input": [],
     "language": "python",
     "metadata": {},
     "outputs": [],
     "prompt_number": 28
    }
   ],
   "metadata": {}
  }
 ]
}