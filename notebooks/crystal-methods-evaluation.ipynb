{
 "metadata": {
  "name": "",
  "signature": "sha256:11267ff21350f8d6310a911485303a139cb1f0706247e76f4668032b18a0e6ed"
 },
 "nbformat": 3,
 "nbformat_minor": 0,
 "worksheets": [
  {
   "cells": [
    {
     "cell_type": "markdown",
     "metadata": {},
     "source": [
      "Evaluation\n",
      "==========\n",
      "\n",
      "In this document, we evaluate the above methods on a real dataset. We also create data that should serve as true-negatives by shuffling the observed data. In this way, we can evaluate sensitivity by the number of DMR's found for a given $\\alpha$ by the number of DMR's that meet that cutoff in the real dataset. Likewise, we can evaluate the specificity (actually the false positives) by finding the number of DMR's that meet a given cutoff in the shuffled data."
     ]
    },
    {
     "cell_type": "code",
     "collapsed": false,
     "input": [
      "%matplotlib inline\n",
      "\n",
      "import toolshed as ts\n",
      "import itertools as it\n",
      "import numpy as np\n",
      "import pandas as pd\n",
      "import seaborn as sns\n",
      "\n",
      "from crystal import gee_cluster, mixed_model_cluster, liptak_cluster, zscore_cluster, bump_cluster, ols_cluster_robust\n",
      "from crystal import evaluate_method, Feature, logit\n",
      "from aclust import mclust # to create correlated clusters"
     ],
     "language": "python",
     "metadata": {},
     "outputs": [],
     "prompt_number": 1
    },
    {
     "cell_type": "markdown",
     "metadata": {},
     "source": [
      "We need a generator that reads data and generates features to sent to aclust"
     ]
    },
    {
     "cell_type": "code",
     "collapsed": false,
     "input": [
      "N = 12\n",
      "\n",
      "def feature_gen(fname, samples):         \n",
      "    for i, d in enumerate(ts.reader(fname, header=True)):\n",
      "        if i == 0: continue\n",
      "        chrom, pos = d['probe'].split(\":\")\n",
      "        yield Feature(chrom, int(pos), logit(np.array([float(d[s]) for s in samples])))"
     ],
     "language": "python",
     "metadata": {},
     "outputs": [],
     "prompt_number": 2
    },
    {
     "cell_type": "markdown",
     "metadata": {},
     "source": [
      "Now we need to define our model and read in our covariates. First, we want to test 6 vs 6 (male vs female)."
     ]
    },
    {
     "cell_type": "code",
     "collapsed": false,
     "input": [
      "methylation_file = \"/drive/450k/norm.beta.txt.gz\"\n",
      "covariates_file = \"covariates.csv\"\n",
      "np.random.seed(42)\n",
      "\n",
      "covs_full = pd.read_csv(covariates_file, index_col=0)\n",
      "covs_full['id'] = covs_full.index\n",
      "formula = \"methylation ~ age + gender\"\n",
      "\n",
      "F = covs_full.query('gender == \"F\"')\n",
      "M = covs_full.query('gender == \"M\"')\n",
      "\n",
      "covs = pd.concat((F.ix[np.random.random_integers(0, len(F) - 1, size=N / 2), :],\n",
      "                  M.ix[np.random.random_integers(0, len(M) - 1, size=N / 2), :]), axis=0)\n",
      "covs.shape"
     ],
     "language": "python",
     "metadata": {},
     "outputs": [
      {
       "metadata": {},
       "output_type": "pyout",
       "prompt_number": 3,
       "text": [
        "(12, 5)"
       ]
      }
     ],
     "prompt_number": 3
    },
    {
     "cell_type": "markdown",
     "metadata": {},
     "source": [
      "Our input data is a methylation matrix (rows of probes and columns of samples). Here, we have encoded the position into the row names, but you can also add these on the fly as you stream over the data."
     ]
    },
    {
     "cell_type": "code",
     "collapsed": false,
     "input": [
      "# a function to restart the cluster generation each time.\n",
      "def get_cluster_iter(samples, min_len=3):\n",
      "    return (c for c in mclust(feature_gen(methylation_file, samples),\n",
      "                              max_dist=400, max_skip=1) if len(c) >= min_len)\n"
     ],
     "language": "python",
     "metadata": {},
     "outputs": [],
     "prompt_number": 4
    },
    {
     "cell_type": "markdown",
     "metadata": {},
     "source": [
      "Mclust returns an iterator of clusters given an iterator of features. The clusters are have correlated methylation. The clustering is done without knowing the study design so it is unbiased.\n",
      "\n",
      "Each cluster is a list of features from your own feature_gen()"
     ]
    },
    {
     "cell_type": "code",
     "collapsed": false,
     "input": [
      "c = next(get_cluster_iter(covs.index))\n",
      "assert len(c[0].values) == N\n",
      "[repr(f) for f in c] "
     ],
     "language": "python",
     "metadata": {},
     "outputs": [
      {
       "metadata": {},
       "output_type": "pyout",
       "prompt_number": 5,
       "text": [
        "['Feature(chr1:845810)', 'Feature(chr1:846155)', 'Feature(chr1:846195)']"
       ]
      }
     ],
     "prompt_number": 5
    },
    {
     "cell_type": "code",
     "collapsed": false,
     "input": [
      "print covs.gender.value_counts()\n",
      "covs.head()"
     ],
     "language": "python",
     "metadata": {},
     "outputs": [
      {
       "output_type": "stream",
       "stream": "stdout",
       "text": [
        "F    6\n",
        "M    6\n",
        "dtype: int64\n"
       ]
      },
      {
       "html": [
        "<div style=\"max-height:1000px;max-width:1500px;overflow:auto;\">\n",
        "<table border=\"1\" class=\"dataframe\">\n",
        "  <thead>\n",
        "    <tr style=\"text-align: right;\">\n",
        "      <th></th>\n",
        "      <th>gender</th>\n",
        "      <th>age</th>\n",
        "      <th>Basename</th>\n",
        "      <th>ID</th>\n",
        "      <th>id</th>\n",
        "    </tr>\n",
        "  </thead>\n",
        "  <tbody>\n",
        "    <tr>\n",
        "      <th>GSM1235636</th>\n",
        "      <td> F</td>\n",
        "      <td> 54.513</td>\n",
        "      <td> 6929726064_R01C01</td>\n",
        "      <td> age54.513_F</td>\n",
        "      <td> GSM1235636</td>\n",
        "    </tr>\n",
        "    <tr>\n",
        "      <th>GSM1236106</th>\n",
        "      <td> F</td>\n",
        "      <td> 48.241</td>\n",
        "      <td> 5809079068_R06C01</td>\n",
        "      <td> age48.241_F</td>\n",
        "      <td> GSM1236106</td>\n",
        "    </tr>\n",
        "    <tr>\n",
        "      <th>GSM1235873</th>\n",
        "      <td> F</td>\n",
        "      <td> 56.512</td>\n",
        "      <td> 6969568090_R02C01</td>\n",
        "      <td> age56.512_F</td>\n",
        "      <td> GSM1235873</td>\n",
        "    </tr>\n",
        "    <tr>\n",
        "      <th>GSM1235640</th>\n",
        "      <td> F</td>\n",
        "      <td> 48.600</td>\n",
        "      <td> 7766130017_R06C01</td>\n",
        "      <td>   age48.6_F</td>\n",
        "      <td> GSM1235640</td>\n",
        "    </tr>\n",
        "    <tr>\n",
        "      <th>GSM1235605</th>\n",
        "      <td> F</td>\n",
        "      <td> 63.910</td>\n",
        "      <td> 7766130009_R06C01</td>\n",
        "      <td>  age63.91_F</td>\n",
        "      <td> GSM1235605</td>\n",
        "    </tr>\n",
        "  </tbody>\n",
        "</table>\n",
        "</div>"
       ],
       "metadata": {},
       "output_type": "pyout",
       "prompt_number": 6,
       "text": [
        "           gender     age           Basename           ID          id\n",
        "GSM1235636      F  54.513  6929726064_R01C01  age54.513_F  GSM1235636\n",
        "GSM1236106      F  48.241  5809079068_R06C01  age48.241_F  GSM1236106\n",
        "GSM1235873      F  56.512  6969568090_R02C01  age56.512_F  GSM1235873\n",
        "GSM1235640      F  48.600  7766130017_R06C01    age48.6_F  GSM1235640\n",
        "GSM1235605      F  63.910  7766130009_R06C01   age63.91_F  GSM1235605"
       ]
      }
     ]
    },
    {
     "cell_type": "markdown",
     "metadata": {},
     "source": [
      "Our analysis will be looking for DMRs related to gender we run a number of methods, repeat some under robust regression, and the evaluate the results:"
     ]
    },
    {
     "cell_type": "code",
     "collapsed": false,
     "input": [
      "# number of \"true\" and \"false\" DMRs to generate\n",
      "import crystal.simulate\n",
      "\n",
      "# just do this once since it takes some time.\n",
      "#true_clusters = [c for i, c in it.izip(range(nclusters), get_cluster_iter(covs.index, 3))]\n",
      "#false_clusters = [crystal.simulate.simulate_cluster(c, w=0) for c in true_clusters]\n",
      "clusters = [c for c in get_cluster_iter(covs.index, 3)]\n",
      "\n",
      "true_clusters = [c for c in clusters if c[0].chrom in ('chrX', 'chrY')]\n",
      "assert true_clusters\n",
      "\n",
      "false_clusters = [c for c in clusters if not c[0].chrom in ('chrX', 'chrY')]\n",
      "assert false_clusters\n",
      "\n",
      "clusters = true_clusters + false_clusters\n"
     ],
     "language": "python",
     "metadata": {},
     "outputs": []
    },
    {
     "cell_type": "code",
     "collapsed": false,
     "input": [
      "np.random.seed(42)\n",
      "nclusters = len(true_clusters)\n",
      "\n",
      "formula = \"methylation ~ age + gender\"\n",
      "\n",
      "coef = 'gender'\n",
      "\n",
      "results = list(it.starmap(evaluate_method, ((clusters, nclusters, covs, formula, coef, fn) \\\n",
      "                                        for fn in (zscore_cluster, liptak_cluster)))) \n",
      "#\"\"\"\n",
      "for fn in (liptak_cluster, zscore_cluster):\n",
      "     res = evaluate_method(clusters, nclusters, covs, formula, coef, fn, dict(robust=True))\n",
      "     res['method'] += \" robust\"\n",
      "     results.append(res)\n",
      "#\"\"\"\n",
      "\n",
      "formula += \" + CpG\"\n",
      "results.extend(it.starmap(evaluate_method, ((clusters, nclusters, covs, formula, coef, fn) \\\n",
      "                                        for fn in (gee_cluster, ols_cluster_robust, mixed_model_cluster)))) \n",
      "\n",
      "results = pd.DataFrame(results)\n",
      "# put data in long format\n",
      "results = pd.melt(results,\n",
      "        id_vars=[c for c in results.columns if not ('false' in c or 'true' in c)],\n",
      "        value_vars=[c for c in results.columns if 'false' in c or 'true' in\n",
      "            c], value_name='n_lt_alpha')\n",
      "results['alpha'] = [10**-int(x.split(\"_\")[1]) for x in results['variable']]\n",
      "results['truth'] = [x.split('_')[0] for x in results['variable']]"
     ],
     "language": "python",
     "metadata": {},
     "outputs": []
    },
    {
     "cell_type": "code",
     "collapsed": false,
     "input": [
      "import matplotlib.pyplot as plt\n",
      "sns.set(style=\"white\", context=\"talk\")\n",
      "\n",
      "r = results[results.alpha < 0.01]\n",
      "fig, axs = plt.subplots(2, 1, figsize=(10, 8), sharex=True)\n",
      "colors = sns.color_palette(\"Set1\", 8)\n",
      "\n",
      "methods = list(r.method.unique())\n",
      "\n",
      "for j, truth in enumerate((\"true\", \"false\")):\n",
      "    shapes = []\n",
      "    for i, m in enumerate(methods):\n",
      "        xx = -np.log10(r.alpha[(r.truth == truth) & (r.method == m)])\n",
      "        y = r.n_lt_alpha[(r.truth == truth) & (r.method == m)]\n",
      "        f = axs[j].bar(left=xx+i/9. - 0.28, height=y, width=0.1, fc=colors[i], ec=colors[i])\n",
      "        shapes.append(f[0])\n",
      "        axs[j].set_xlim(2.5, 7.5)\n",
      "\n",
      "axs[1].legend(shapes, [x.replace(\"_\", \" \").replace(\" cluster\", \"\") for x in methods])\n",
      "axs[1].set_xticks(xx.unique())\n",
      "axs[1].set_xticklabels(['1e-%s' % x for x in range(3, 8)])\n",
      "axs[1].set_xlabel('$a$')\n",
      "\n",
      "axs[1].set_ylabel('false positives')\n",
      "axs[0].set_ylabel('true positivies')\n",
      "\n",
      "plt.show()"
     ],
     "language": "python",
     "metadata": {},
     "outputs": []
    },
    {
     "cell_type": "markdown",
     "metadata": {},
     "source": [
      "We can see that OLS Robust and GEE perform slightly better than the others.\n",
      "Below, we show the CPU time take for each method."
     ]
    },
    {
     "cell_type": "code",
     "collapsed": false,
     "input": [
      "ymax = int(np.log10(1000))\n",
      "print ymax\n",
      "fig, ax = plt.subplots()\n",
      "clean_methods = [x.replace('_cluster', '').replace(\"_\", ' ') for x in methods]\n",
      "\n",
      "times = dict(results.groupby('method')['time'].aggregate(np.max))\n",
      "shapes = []\n",
      "for i, t in enumerate(times[m] for m in methods):  \n",
      "    s = ax.bar(i + 0.08, height=np.log10(1 + float(t) / 60.), width=0.85, fc=colors[i])\n",
      "    shapes.append(s[0])\n",
      "ax.set_yticks(range(ymax))\n",
      "ax.set_yticklabels([\"%i\" % (10**i) for i in range(ymax)])\n",
      "ax.set_title('CPU time (minutes)')       \n",
      "ax.set_xticks([]) # x + 0.4 for x in range(len(methods))])\n",
      "#ax.set_xticklabels(clean_methods)\n",
      "ax.legend(shapes, clean_methods, loc=\"upper left\");"
     ],
     "language": "python",
     "metadata": {},
     "outputs": []
    },
    {
     "cell_type": "code",
     "collapsed": false,
     "input": [
      "len(true_clusters), len(clusters)"
     ],
     "language": "python",
     "metadata": {},
     "outputs": []
    },
    {
     "cell_type": "code",
     "collapsed": false,
     "input": [
      "true_clusters[-1\n",
      "              ]"
     ],
     "language": "python",
     "metadata": {},
     "outputs": []
    },
    {
     "cell_type": "code",
     "collapsed": false,
     "input": [
      "false_clusters[-1]"
     ],
     "language": "python",
     "metadata": {},
     "outputs": []
    },
    {
     "cell_type": "code",
     "collapsed": false,
     "input": [
      "for chrom in range(1, 21):\n",
      "    chrom = \"chr%i\" % chrom\n",
      "    print chrom, sum(1 for c in false_clusters if c[0].chrom == chrom)"
     ],
     "language": "python",
     "metadata": {},
     "outputs": []
    },
    {
     "cell_type": "code",
     "collapsed": false,
     "input": [
      "from sklearn.metrics import roc_curve, auc\n",
      "fpr, tpr, _ = roc_curve(([1] * len(true_clusters)) + ([0] * len(false_clusters)),\n",
      "                        y_score[:, i])\n"
     ],
     "language": "python",
     "metadata": {},
     "outputs": []
    }
   ],
   "metadata": {}
  }
 ]
}