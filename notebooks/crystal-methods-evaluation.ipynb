{
 "metadata": {
  "name": ""
 },
 "nbformat": 3,
 "nbformat_minor": 0,
 "worksheets": [
  {
   "cells": [
    {
     "cell_type": "markdown",
     "metadata": {},
     "source": [
      "Evaluation\n",
      "==========\n",
      "\n",
      "In this document, we evaluate the above methods on a real dataset. We also create data that should serve as true-negatives by shuffling the observed data. In this way, we can evaluate sensitivity by the number of DMR's found for a given $\\alpha$ by the number of DMR's that meet that cutoff in the real dataset. Likewise, we can evaluate the specificity (actually the false positives) by finding the number of DMR's that meet a given cutoff in the shuffled data."
     ]
    },
    {
     "cell_type": "code",
     "collapsed": false,
     "input": [
      "%matplotlib inline\n",
      "\n",
      "import toolshed as ts\n",
      "import numpy as np\n",
      "import pandas as pd\n",
      "import seaborn as sns\n",
      "\n",
      "from crystal import gee_cluster, mixed_model_cluster, liptak_cluster, zscore_cluster, bump_cluster\n",
      "from crystal import evaluate_method, Feature\n",
      "from aclust import mclust # to create correlated clusters"
     ],
     "language": "python",
     "metadata": {},
     "outputs": [],
     "prompt_number": 19
    },
    {
     "cell_type": "markdown",
     "metadata": {},
     "source": [
      "We need a generator that reads data and generates features to sent to aclust"
     ]
    },
    {
     "cell_type": "code",
     "collapsed": false,
     "input": [
      "N = 40\n",
      "\n",
      "def logit(a): return np.log(a / (1 - a))\n",
      "\n",
      "def feature_gen(fname):         \n",
      "    for i, toks in enumerate(ts.reader(fname, header=False)):\n",
      "        if i == 0: continue\n",
      "        chrom, pos = toks[0].split(\":\")\n",
      "        yield Feature(chrom, int(pos), logit(np.array(map(float, toks[1:])))[:N])"
     ],
     "language": "python",
     "metadata": {},
     "outputs": [],
     "prompt_number": 20
    },
    {
     "cell_type": "markdown",
     "metadata": {},
     "source": [
      "Our input data is a methylation matrix (rows of probes and columns of samples). Here, we have encoded the position into the row names, but you can also add these on the fly as you stream over the data."
     ]
    },
    {
     "cell_type": "code",
     "collapsed": false,
     "input": [
      "methylation_file = \"/drive/450k/norm.beta.txt.gz\"\n",
      "covariates_file = \"covariates.csv\""
     ],
     "language": "python",
     "metadata": {},
     "outputs": [],
     "prompt_number": 21
    },
    {
     "cell_type": "code",
     "collapsed": false,
     "input": [
      "# a function to restart the cluster generation each time.\n",
      "def get_cluster_iter():\n",
      "    return (c for c in mclust(feature_gen(methylation_file),\n",
      "                                max_dist=400, max_skip=1) if len(c) > 3)\n"
     ],
     "language": "python",
     "metadata": {},
     "outputs": [],
     "prompt_number": 22
    },
    {
     "cell_type": "markdown",
     "metadata": {},
     "source": [
      "Mclust returns an iterator of clusters given an iterator of features. The clusters are have correlated methylation. The clustering is done without knowing the study design so it is unbiased.\n",
      "\n",
      "Each cluster is a list of features from your own feature_gen()"
     ]
    },
    {
     "cell_type": "code",
     "collapsed": false,
     "input": [
      "c = next(get_cluster_iter())\n",
      "print len(c[0].values)\n",
      "[repr(f) for f in c] "
     ],
     "language": "python",
     "metadata": {},
     "outputs": [
      {
       "output_type": "stream",
       "stream": "stdout",
       "text": [
        "40\n"
       ]
      },
      {
       "metadata": {},
       "output_type": "pyout",
       "prompt_number": 23,
       "text": [
        "['Feature(chr1:869346)',\n",
        " 'Feature(chr1:869368)',\n",
        " 'Feature(chr1:870791)',\n",
        " 'Feature(chr1:870810)',\n",
        " 'Feature(chr1:870958)',\n",
        " 'Feature(chr1:871033)',\n",
        " 'Feature(chr1:871057)',\n",
        " 'Feature(chr1:871308)',\n",
        " 'Feature(chr1:871441)',\n",
        " 'Feature(chr1:871546)']"
       ]
      }
     ],
     "prompt_number": 23
    },
    {
     "cell_type": "markdown",
     "metadata": {},
     "source": [
      "Now we need to define our model and read in our covariates"
     ]
    },
    {
     "cell_type": "code",
     "collapsed": false,
     "input": [
      "covs = pd.read_csv(covariates_file, index_col=0).ix[:N, :]\n",
      "covs['id'] = covs.index\n",
      "formula = \"methylation ~ age + gender\""
     ],
     "language": "python",
     "metadata": {},
     "outputs": [],
     "prompt_number": 24
    },
    {
     "cell_type": "code",
     "collapsed": false,
     "input": [
      "covs.head()"
     ],
     "language": "python",
     "metadata": {},
     "outputs": [
      {
       "html": [
        "<div style=\"max-height:1000px;max-width:1500px;overflow:auto;\">\n",
        "<table border=\"1\" class=\"dataframe\">\n",
        "  <thead>\n",
        "    <tr style=\"text-align: right;\">\n",
        "      <th></th>\n",
        "      <th>gender</th>\n",
        "      <th>age</th>\n",
        "      <th>Basename</th>\n",
        "      <th>ID</th>\n",
        "      <th>id</th>\n",
        "    </tr>\n",
        "  </thead>\n",
        "  <tbody>\n",
        "    <tr>\n",
        "      <th>GSM1235534</th>\n",
        "      <td> F</td>\n",
        "      <td> 54.322</td>\n",
        "      <td> 6969568099_R02C02</td>\n",
        "      <td> age54.322_F</td>\n",
        "      <td> GSM1235534</td>\n",
        "    </tr>\n",
        "    <tr>\n",
        "      <th>GSM1235535</th>\n",
        "      <td> F</td>\n",
        "      <td> 44.561</td>\n",
        "      <td> 6969568052_R02C01</td>\n",
        "      <td> age44.561_F</td>\n",
        "      <td> GSM1235535</td>\n",
        "    </tr>\n",
        "    <tr>\n",
        "      <th>GSM1235536</th>\n",
        "      <td> F</td>\n",
        "      <td> 50.869</td>\n",
        "      <td> 6969568141_R03C01</td>\n",
        "      <td> age50.869_F</td>\n",
        "      <td> GSM1235536</td>\n",
        "    </tr>\n",
        "    <tr>\n",
        "      <th>GSM1235537</th>\n",
        "      <td> F</td>\n",
        "      <td> 46.858</td>\n",
        "      <td> 6969568052_R01C02</td>\n",
        "      <td> age46.858_F</td>\n",
        "      <td> GSM1235537</td>\n",
        "    </tr>\n",
        "    <tr>\n",
        "      <th>GSM1235538</th>\n",
        "      <td> F</td>\n",
        "      <td> 56.192</td>\n",
        "      <td> 7766130010_R05C01</td>\n",
        "      <td> age56.192_F</td>\n",
        "      <td> GSM1235538</td>\n",
        "    </tr>\n",
        "  </tbody>\n",
        "</table>\n",
        "</div>"
       ],
       "metadata": {},
       "output_type": "pyout",
       "prompt_number": 25,
       "text": [
        "           gender     age           Basename           ID          id\n",
        "GSM1235534      F  54.322  6969568099_R02C02  age54.322_F  GSM1235534\n",
        "GSM1235535      F  44.561  6969568052_R02C01  age44.561_F  GSM1235535\n",
        "GSM1235536      F  50.869  6969568141_R03C01  age50.869_F  GSM1235536\n",
        "GSM1235537      F  46.858  6969568052_R01C02  age46.858_F  GSM1235537\n",
        "GSM1235538      F  56.192  7766130010_R05C01  age56.192_F  GSM1235538"
       ]
      }
     ],
     "prompt_number": "*"
    },
    {
     "cell_type": "markdown",
     "metadata": {},
     "source": [
      "Our analysis will be looking for DMRs related to age"
     ]
    },
    {
     "cell_type": "code",
     "collapsed": false,
     "input": [
      "np.random.seed(10)\n",
      "formula = \"methylation ~ age + gender\"\n",
      "\n",
      "# number of \"true\" and \"false\" DMRs to generate\n",
      "ntrue, nfalse = 1000, 1000\n",
      "\n",
      "results = []\n",
      "for fn in (bump_cluster, liptak_cluster, zscore_cluster):\n",
      "        results.append(evaluate_method(get_cluster_iter(), covs, formula, 'age', fn, \n",
      "        ntrue, nfalse))\n",
      "\n",
      "        \n",
      "for fn in (liptak_cluster, zscore_cluster):\n",
      "    res = evaluate_method(get_cluster_iter(), covs, formula, 'age', fn,\n",
      "                      ntrue, nfalse, robust=True)\n",
      "    res['method'] += \" robust\"\n",
      "    results.append(res)\n",
      "        \n",
      "# for these, we model CpG site as a fixed effect and the sample-id is a random effect.\n",
      "formula = \"methylation ~ age + gender + CpG\"\n",
      "for fn in (gee_cluster, mixed_model_cluster):\n",
      "      results.append(evaluate_method(get_cluster_iter(), covs, formula, 'age', fn, \n",
      "        ntrue, nfalse))\n",
      "\n",
      "results = pd.DataFrame(results)\n",
      "# put data in long format\n",
      "results = pd.melt(results,\n",
      "        id_vars=[c for c in results.columns if not ('false' in c or 'true' in c)],\n",
      "        value_vars=[c for c in results.columns if 'false' in c or 'true' in\n",
      "            c], value_name='n_lt_alpha')\n",
      "results['alpha'] = [10**-int(x.split(\"_\")[1]) for x in results['variable']]\n",
      "results['truth'] = [x.split('_')[0] for x in results['variable']]"
     ],
     "language": "python",
     "metadata": {},
     "outputs": [],
     "prompt_number": "*"
    },
    {
     "cell_type": "code",
     "collapsed": false,
     "input": [
      "import matplotlib.pyplot as plt\n",
      "sns.set(style=\"white\", context=\"talk\")\n",
      "\n",
      "r = results[results.alpha < 0.1]\n",
      "\n",
      "fig, axs = plt.subplots(2, 1, figsize=(8, 6), sharex=True)\n",
      "\n",
      "colors = sns.color_palette(\"Set1\", 8)\n",
      "\n",
      "\n",
      "methods = list(r.method.unique())\n",
      "\n",
      "for j, truth in enumerate((\"true\", \"false\")):\n",
      "    shapes = []\n",
      "    for i, m in enumerate(methods):\n",
      "        xx = -np.log10(r.alpha[(r.truth == truth) & (r.method == m)])\n",
      "        y = r.n_lt_alpha[(r.truth == truth) & (r.method == m)]\n",
      "        f = axs[j].bar(left=xx+i/9. - 0.28, height=y, width=0.1, fc=colors[i], ec=colors[i])\n",
      "        shapes.append(f[0])\n",
      "        axs[j].set_xlim(1.5, 7.5)\n",
      "\n",
      "\n",
      "axs[0].legend(shapes, [x.replace(\"_\", \" \").replace(\" cluster\", \"\") for x in methods])\n",
      "axs[1].set_xticks(xx.unique())\n",
      "axs[1].set_xticklabels(['1e-%s' % x for x in range(2, 8)])\n",
      "axs[1].set_xlim(1.5, 7.5)\n",
      "axs[1].set_xlabel('alpha')\n",
      "\n",
      "axs[1].set_ylabel('false positives')\n",
      "axs[0].set_ylabel('true positivies')\n",
      "\n",
      "plt.show()\n"
     ],
     "language": "python",
     "metadata": {},
     "outputs": [],
     "prompt_number": "*"
    },
    {
     "cell_type": "code",
     "collapsed": false,
     "input": [
      "fig, ax = plt.subplots()\n",
      "clean_methods = [x.replace('_cluster', '').replace(\"_\", ' ') for x in methods]\n",
      "\n",
      "times = dict(results.groupby('method')['time'].aggregate(np.max))\n",
      "shapes = []\n",
      "for i, t in enumerate(times[m] for m in methods):  \n",
      "    s = ax.bar(i, height=np.log10(1 + float(t) / 60.), width=0.85, fc=colors[i])\n",
      "    shapes.append(s[0])\n",
      "ax.set_yticks(range(4))\n",
      "ax.set_yticklabels([\"%i\" % (10**i) for i in range(4)])\n",
      "ax.set_title('CPU time (minutes)')       \n",
      "ax.set_xticks([x + 0.4 for x in range(len(methods))])\n",
      "ax.set_xticklabels(clean_methods)\n",
      "ax.legend(shapes, clean_methods);"
     ],
     "language": "python",
     "metadata": {},
     "outputs": [],
     "prompt_number": "*"
    },
    {
     "cell_type": "code",
     "collapsed": false,
     "input": [
      "times"
     ],
     "language": "python",
     "metadata": {},
     "outputs": [],
     "prompt_number": "*"
    }
   ],
   "metadata": {}
  }
 ]
}