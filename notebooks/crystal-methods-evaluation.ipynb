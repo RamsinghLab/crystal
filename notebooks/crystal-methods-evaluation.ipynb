{
 "metadata": {
  "name": "",
  "signature": "sha256:ca4d13f90877d8bfaba59ebbcafebbc16c03b3fff085976dcf0887da8c8d62ae"
 },
 "nbformat": 3,
 "nbformat_minor": 0,
 "worksheets": [
  {
   "cells": [
    {
     "cell_type": "markdown",
     "metadata": {},
     "source": [
      "Evaluation\n",
      "==========\n",
      "\n",
      "In this document, we evaluate the above methods on a real dataset. We also create data that should serve as true-negatives by shuffling the observed data. In this way, we can evaluate sensitivity by the number of DMR's found for a given $\\alpha$ by the number of DMR's that meet that cutoff in the real dataset. Likewise, we can evaluate the specificity (actually the false positives) by finding the number of DMR's that meet a given cutoff in the shuffled data."
     ]
    },
    {
     "cell_type": "code",
     "collapsed": false,
     "input": [
      "%matplotlib inline\n",
      "\n",
      "import toolshed as ts\n",
      "import itertools as it\n",
      "import numpy as np\n",
      "import pandas as pd\n",
      "import seaborn as sns\n",
      "import matplotlib.pyplot as plt\n",
      "\n",
      "sns.set(style=\"white\", context=\"talk\")\n",
      "colors = sns.color_palette(\"Set1\", 8)\n",
      "pool = ts.pool()\n",
      "\n",
      "from crystal import gee_cluster, mixed_model_cluster, liptak_cluster, zscore_cluster, bump_cluster, ols_cluster_robust\n",
      "from crystal import Feature, logit\n",
      "from crystal.evaluate import evaluate_replication, evaluate_method\n",
      "from aclust import mclust # to create correlated clusters"
     ],
     "language": "python",
     "metadata": {},
     "outputs": [],
     "prompt_number": 1
    },
    {
     "cell_type": "markdown",
     "metadata": {},
     "source": [
      "We need a generator that reads data and generates features to sent to aclust"
     ]
    },
    {
     "cell_type": "code",
     "collapsed": false,
     "input": [
      "N = 12\n",
      "\n",
      "def feature_gen(fname, samples):         \n",
      "    for i, d in enumerate(ts.reader(fname, header=True)):\n",
      "        if i == 0: continue\n",
      "        chrom, pos = d['probe'].split(\":\")\n",
      "        yield Feature(chrom, int(pos), logit(np.array([float(d[s]) for s in samples])))"
     ],
     "language": "python",
     "metadata": {},
     "outputs": [],
     "prompt_number": 2
    },
    {
     "cell_type": "markdown",
     "metadata": {},
     "source": [
      "Now we need to define our model and read in our covariates. First, we want to test 6 vs 6 (male vs female)."
     ]
    },
    {
     "cell_type": "code",
     "collapsed": false,
     "input": [
      "methylation_file = \"/drive/450k/norm.beta.txt.gz\"\n",
      "methylation_file = \"/drive/450k/beta.subset.txt\"\n",
      "covariates_file = \"covariates.csv\"\n",
      "np.random.seed(42)\n",
      "\n",
      "covs_full = pd.read_csv(covariates_file, index_col=0)\n",
      "\n",
      "covs_full['id'] = covs_full.index\n",
      "covs_full['plate'] = covs_full.Basename.map(lambda s: s.split(\"_\")[0])\n",
      "formula = \"methylation ~ age + gender\"\n",
      "\n",
      "F = covs_full.query('gender == \"F\"')\n",
      "M = covs_full.query('gender == \"M\"')\n",
      "\n",
      "covs = pd.concat((F.ix[np.random.random_integers(0, len(F) - 1, size=N / 2), :],\n",
      "                  M.ix[np.random.random_integers(0, len(M) - 1, size=N / 2), :]), axis=0)\n",
      "covs.shape"
     ],
     "language": "python",
     "metadata": {},
     "outputs": [
      {
       "metadata": {},
       "output_type": "pyout",
       "prompt_number": 3,
       "text": [
        "(12, 6)"
       ]
      }
     ],
     "prompt_number": 3
    },
    {
     "cell_type": "markdown",
     "metadata": {},
     "source": [
      "Our input data is a methylation matrix (rows of probes and columns of samples). Here, we have encoded the position into the row names, but you can also add these on the fly as you stream over the data."
     ]
    },
    {
     "cell_type": "code",
     "collapsed": false,
     "input": [
      "# a function to restart the cluster generation each time.\n",
      "def get_cluster_iter(samples, min_len=3):\n",
      "    return (c for c in mclust(feature_gen(methylation_file, samples),\n",
      "                              max_dist=400, max_skip=0) if len(c) >= min_len)\n"
     ],
     "language": "python",
     "metadata": {},
     "outputs": [],
     "prompt_number": 4
    },
    {
     "cell_type": "markdown",
     "metadata": {},
     "source": [
      "Mclust returns an iterator of clusters given an iterator of features. The clusters are have correlated methylation. The clustering is done without knowing the study design so it is unbiased.\n",
      "\n",
      "Each cluster is a list of features from your own feature_gen()"
     ]
    },
    {
     "cell_type": "code",
     "collapsed": false,
     "input": [
      "c = next(get_cluster_iter(covs.index))\n",
      "assert len(c[0].values) == N\n",
      "[repr(f) for f in c] "
     ],
     "language": "python",
     "metadata": {},
     "outputs": [
      {
       "metadata": {},
       "output_type": "pyout",
       "prompt_number": 5,
       "text": [
        "['Feature(chr1:845278)',\n",
        " 'Feature(chr1:845311)',\n",
        " 'Feature(chr1:845810)',\n",
        " 'Feature(chr1:846155)',\n",
        " 'Feature(chr1:846195)']"
       ]
      }
     ],
     "prompt_number": 5
    },
    {
     "cell_type": "code",
     "collapsed": false,
     "input": [
      "print covs.gender.value_counts()\n",
      "covs.head()"
     ],
     "language": "python",
     "metadata": {},
     "outputs": [
      {
       "output_type": "stream",
       "stream": "stdout",
       "text": [
        "F    6\n",
        "M    6\n",
        "dtype: int64\n"
       ]
      },
      {
       "html": [
        "<div style=\"max-height:1000px;max-width:1500px;overflow:auto;\">\n",
        "<table border=\"1\" class=\"dataframe\">\n",
        "  <thead>\n",
        "    <tr style=\"text-align: right;\">\n",
        "      <th></th>\n",
        "      <th>gender</th>\n",
        "      <th>age</th>\n",
        "      <th>Basename</th>\n",
        "      <th>ID</th>\n",
        "      <th>id</th>\n",
        "      <th>plate</th>\n",
        "    </tr>\n",
        "  </thead>\n",
        "  <tbody>\n",
        "    <tr>\n",
        "      <th>GSM1235636</th>\n",
        "      <td> F</td>\n",
        "      <td> 54.513</td>\n",
        "      <td> 6929726064_R01C01</td>\n",
        "      <td> age54.513_F</td>\n",
        "      <td> GSM1235636</td>\n",
        "      <td> 6929726064</td>\n",
        "    </tr>\n",
        "    <tr>\n",
        "      <th>GSM1236106</th>\n",
        "      <td> F</td>\n",
        "      <td> 48.241</td>\n",
        "      <td> 5809079068_R06C01</td>\n",
        "      <td> age48.241_F</td>\n",
        "      <td> GSM1236106</td>\n",
        "      <td> 5809079068</td>\n",
        "    </tr>\n",
        "    <tr>\n",
        "      <th>GSM1235873</th>\n",
        "      <td> F</td>\n",
        "      <td> 56.512</td>\n",
        "      <td> 6969568090_R02C01</td>\n",
        "      <td> age56.512_F</td>\n",
        "      <td> GSM1235873</td>\n",
        "      <td> 6969568090</td>\n",
        "    </tr>\n",
        "    <tr>\n",
        "      <th>GSM1235640</th>\n",
        "      <td> F</td>\n",
        "      <td> 48.600</td>\n",
        "      <td> 7766130017_R06C01</td>\n",
        "      <td>   age48.6_F</td>\n",
        "      <td> GSM1235640</td>\n",
        "      <td> 7766130017</td>\n",
        "    </tr>\n",
        "    <tr>\n",
        "      <th>GSM1235605</th>\n",
        "      <td> F</td>\n",
        "      <td> 63.910</td>\n",
        "      <td> 7766130009_R06C01</td>\n",
        "      <td>  age63.91_F</td>\n",
        "      <td> GSM1235605</td>\n",
        "      <td> 7766130009</td>\n",
        "    </tr>\n",
        "  </tbody>\n",
        "</table>\n",
        "</div>"
       ],
       "metadata": {},
       "output_type": "pyout",
       "prompt_number": 6,
       "text": [
        "           gender     age           Basename           ID          id  \\\n",
        "GSM1235636      F  54.513  6929726064_R01C01  age54.513_F  GSM1235636   \n",
        "GSM1236106      F  48.241  5809079068_R06C01  age48.241_F  GSM1236106   \n",
        "GSM1235873      F  56.512  6969568090_R02C01  age56.512_F  GSM1235873   \n",
        "GSM1235640      F  48.600  7766130017_R06C01    age48.6_F  GSM1235640   \n",
        "GSM1235605      F  63.910  7766130009_R06C01   age63.91_F  GSM1235605   \n",
        "\n",
        "                 plate  \n",
        "GSM1235636  6929726064  \n",
        "GSM1236106  5809079068  \n",
        "GSM1235873  6969568090  \n",
        "GSM1235640  7766130017  \n",
        "GSM1235605  7766130009  "
       ]
      }
     ],
     "prompt_number": 6
    },
    {
     "cell_type": "markdown",
     "metadata": {},
     "source": [
      "Our analysis will be looking for DMRs related to gender we run a number of methods, repeat some under robust regression, and the evaluate the results:"
     ]
    },
    {
     "cell_type": "code",
     "collapsed": false,
     "input": [
      "# number of \"true\" and \"false\" DMRs to generate\n",
      "import crystal.simulate\n",
      "\n",
      "# just do this once since it takes some time.\n",
      "true_clusters = [c for c in get_cluster_iter(covs.index, 3)]\n",
      "false_clusters = [crystal.simulate.simulate_cluster(c, w=0) for c in true_clusters]\n",
      "clusters = [c for c in get_cluster_iter(covs.index, 3)]\n",
      "\n",
      "true_clusters = [c for c in clusters if c[0].chrom in ('chrX', 'chrY')]\n",
      "assert true_clusters\n",
      "\n",
      "false_clusters = [c for c in clusters if not c[0].chrom in ('chrX', 'chrY')]\n",
      "assert false_clusters\n",
      "\n",
      "clusters = true_clusters + false_clusters\n"
     ],
     "language": "python",
     "metadata": {},
     "outputs": [],
     "prompt_number": 7
    },
    {
     "cell_type": "code",
     "collapsed": false,
     "input": [
      "np.random.seed(42)\n",
      "\n",
      "formula = \"methylation ~ age + gender\"\n",
      "formula_cpg = formula + \" + CpG\"\n",
      "\n",
      "coef = 'gender'\n",
      "\n",
      "fig, ax = plt.subplots(1)\n",
      "\n",
      "clean_methods = [\"z-score\", \"z-score robust\", \"GEE\", \"OLS cluster\", \"mixed-model\"]\n",
      "\n",
      "methods, models, kwargs = zip(*[\n",
      "    (zscore_cluster, formula,          dict(ax=ax, plot_kwargs=dict(color=colors[0], label=clean_methods[0]))),\n",
      "    (zscore_cluster, formula,          dict(ax=ax, plot_kwargs=dict(color=colors[1], label=clean_methods[1]), robust=True)),                                       \n",
      "    (gee_cluster, formula_cpg,         dict(ax=ax, plot_kwargs=dict(color=colors[2], label=clean_methods[2]))),\n",
      "    (ols_cluster_robust, formula_cpg,  dict(ax=ax, plot_kwargs=dict(color=colors[3], label=clean_methods[3]))),\n",
      "    (mixed_model_cluster, formula_cpg, dict(ax=ax, plot_kwargs=dict(color=colors[4], label=clean_methods[4]))),\n",
      "                                       ])\n",
      "\n",
      "nclusters = len(true_clusters)\n",
      "\n",
      "results = [evaluate_method(clusters, nclusters, covs, model, coef, fn, pool=pool, kwargs=kw)\n",
      "                                   for (fn, model, kw) in zip(methods, models, kwargs)]\n",
      "\n",
      "ax.set_xlim(0, 0.1)\n",
      "ax.legend(loc=\"best\")\n"
     ],
     "language": "python",
     "metadata": {},
     "outputs": [
      {
       "output_type": "stream",
       "stream": "stdout",
       "text": [
        "zscore_cluster {}\n",
        "zscore_cluster"
       ]
      },
      {
       "output_type": "stream",
       "stream": "stdout",
       "text": [
        " {'robust': True}\n",
        "gee_cluster"
       ]
      },
      {
       "output_type": "stream",
       "stream": "stdout",
       "text": [
        " {}\n",
        "ols_cluster_robust"
       ]
      },
      {
       "output_type": "stream",
       "stream": "stdout",
       "text": [
        " {}\n",
        "mixed_model_cluster"
       ]
      },
      {
       "output_type": "stream",
       "stream": "stdout",
       "text": [
        " {}\n"
       ]
      },
      {
       "output_type": "stream",
       "stream": "stderr",
       "text": [
        "/usr/local/lib/python2.7/dist-packages/statsmodels-0.6.0-py2.7-linux-x86_64.egg/statsmodels/regression/mixed_linear_model.py:1477: ConvergenceWarning: The MLE may be on the boundary of the parameter space.\n",
        "  warnings.warn(msg, ConvergenceWarning)\n",
        "/usr/local/lib/python2.7/dist-packages/statsmodels-0.6.0-py2.7-linux-x86_64.egg/statsmodels/regression/mixed_linear_model.py:1477: ConvergenceWarning: The MLE may be on the boundary of the parameter space.\n",
        "  warnings.warn(msg, ConvergenceWarning)\n",
        "/usr/local/lib/python2.7/dist-packages/statsmodels-0.6.0-py2.7-linux-x86_64.egg/statsmodels/regression/mixed_linear_model.py:1477: ConvergenceWarning: The MLE may be on the boundary of the parameter space.\n",
        "  warnings.warn(msg, ConvergenceWarning)\n",
        "/usr/local/lib/python2.7/dist-packages/statsmodels-0.6.0-py2.7-linux-x86_64.egg/statsmodels/regression/mixed_linear_model.py:1477: ConvergenceWarning: The MLE may be on the boundary of the parameter space.\n",
        "  warnings.warn(msg, ConvergenceWarning)\n",
        "/usr/local/lib/python2.7/dist-packages/statsmodels-0.6.0-py2.7-linux-x86_64.egg/statsmodels/regression/mixed_linear_model.py:1477: ConvergenceWarning: The MLE may be on the boundary of the parameter space.\n",
        "  warnings.warn(msg, ConvergenceWarning)\n",
        "/usr/local/lib/python2.7/dist-packages/statsmodels-0.6.0-py2.7-linux-x86_64.egg/statsmodels/regression/mixed_linear_model.py:1477: ConvergenceWarning: The MLE may be on the boundary of the parameter space.\n",
        "  warnings.warn(msg, ConvergenceWarning)\n",
        "/usr/local/lib/python2.7/dist-packages/statsmodels-0.6.0-py2.7-linux-x86_64.egg/statsmodels/regression/mixed_linear_model.py:1477: ConvergenceWarning: The MLE may be on the boundary of the parameter space.\n",
        "  warnings.warn(msg, ConvergenceWarning)\n",
        "/usr/local/lib/python2.7/dist-packages/statsmodels-0.6.0-py2.7-linux-x86_64.egg/statsmodels/regression/mixed_linear_model.py:1477: ConvergenceWarning: The MLE may be on the boundary of the parameter space.\n",
        "  warnings.warn(msg, ConvergenceWarning)\n",
        "/usr/local/lib/python2.7/dist-packages/statsmodels-0.6.0-py2.7-linux-x86_64.egg/statsmodels/regression/mixed_linear_model.py:1477: ConvergenceWarning: The MLE may be on the boundary of the parameter space.\n",
        "  warnings.warn(msg, ConvergenceWarning)\n",
        "/usr/local/lib/python2.7/dist-packages/statsmodels-0.6.0-py2.7-linux-x86_64.egg/statsmodels/regression/mixed_linear_model.py:1477: ConvergenceWarning: The MLE may be on the boundary of the parameter space.\n",
        "  warnings.warn(msg, ConvergenceWarning)\n",
        "/usr/local/lib/python2.7/dist-packages/statsmodels-0.6.0-py2.7-linux-x86_64.egg/statsmodels/regression/mixed_linear_model.py:1477: ConvergenceWarning: The MLE may be on the boundary of the parameter space.\n",
        "  warnings.warn(msg, ConvergenceWarning)\n"
       ]
      },
      {
       "metadata": {},
       "output_type": "pyout",
       "prompt_number": 8,
       "text": [
        "<matplotlib.legend.Legend at 0x2b8bf3f09f50>"
       ]
      },
      {
       "metadata": {},
       "output_type": "display_data",
       "png": "[encoded data removed]",
       "text": [
        "<matplotlib.figure.Figure at 0x2b8bf09bd090>"
       ]
      }
     ],
     "prompt_number": 8
    },
    {
     "cell_type": "code",
     "collapsed": false,
     "input": [
      "from crystal.evaluate import plot_times\n",
      "\n",
      "fig, ax = plt.subplots(1)\n",
      "plot_times(ax, results, colors)"
     ],
     "language": "python",
     "metadata": {},
     "outputs": [
      {
       "metadata": {},
       "output_type": "display_data",
       "png": "[encoded data removed]",
       "text": [
        "<matplotlib.figure.Figure at 0x2b8c019c0190>"
       ]
      }
     ],
     "prompt_number": 18
    },
    {
     "cell_type": "code",
     "collapsed": false,
     "input": [
      "# HERE, we plot the true and false positives for selected alpha levels.\n",
      "#: TODO: put this, including the dataframe creation into evaluate module.\n",
      "dresults = pd.DataFrame(results)\n",
      "# put data in long format\n",
      "dresults = pd.melt(dresults,\n",
      "        id_vars=[c for c in dresults.columns if not ('false_' in c or 'true_' in c)],\n",
      "        value_vars=[c for c in dresults.columns if 'false_' in c or 'true_' in\n",
      "            c], value_name='n_lt_alpha')\n",
      "dresults['alpha'] = [10**-int(x.split(\"_\")[1]) for x in dresults['variable']]\n",
      "dresults['truth'] = [x.split('_')[0] for x in dresults['variable']]\n",
      "\n",
      "def plot_alphas(results):\n",
      "    r = results[results.alpha < 0.01]\n",
      "    fig, axs = plt.subplots(2, 1, figsize=(10, 8), sharex=True)\n",
      "\n",
      "    for j, truth in enumerate((\"true\", \"false\")):\n",
      "        shapes = []\n",
      "        for i, m in enumerate(methods):\n",
      "            xx = -np.log10(r.alpha[(r.truth == truth) & (r.method == m.func_name)])\n",
      "            y = r.n_lt_alpha[(r.truth == truth) & (r.method == m.func_name)]\n",
      "            f = axs[j].bar(left=xx+i/9. - 0.28, height=y, width=0.1, fc=colors[i], ec=colors[i])\n",
      "            shapes.append(f[0])\n",
      "            axs[j].set_xlim(2.5, 7.5)\n",
      "\n",
      "    axs[1].legend(shapes, clean_methods)\n",
      "    axs[1].set_xticks(xx.unique())\n",
      "    axs[1].set_xticklabels(['1e-%s' % x for x in range(3, 8)])\n",
      "    axs[1].set_xlabel('$a$')\n",
      "\n",
      "    axs[1].set_ylabel('false positives')\n",
      "    axs[0].set_ylabel('true positivies')\n",
      "    return fig, axs\n",
      "  \n",
      "fig, axs = plot_alphas(dresults)"
     ],
     "language": "python",
     "metadata": {},
     "outputs": [
      {
       "metadata": {},
       "output_type": "display_data",
       "png": "[encoded data removed]",
       "text": [
        "<matplotlib.figure.Figure at 0x2b8bf09b9b90>"
       ]
      }
     ],
     "prompt_number": 19
    },
    {
     "cell_type": "markdown",
     "metadata": {},
     "source": [
      "We can see that OLS Robust and GEE perform slightly better than the others.\n",
      "Below, we show the CPU time take for each method."
     ]
    },
    {
     "cell_type": "markdown",
     "metadata": {},
     "source": [
      "## Outliers\n",
      "\n",
      "Now we want to run the same analysis as above, but we set the methylation of one of the female samples to a random value. In many scenarios, this will cause them to be outliers."
     ]
    },
    {
     "cell_type": "code",
     "collapsed": false,
     "input": [
      "import copy\n",
      "def add_outlier(cluster, idxs):\n",
      "    cluster = copy.deepcopy(cluster)\n",
      "    rnd = np.random.random() - 0.5 * 3\n",
      "    for f in cluster:\n",
      "        f.values[idxs] = rnd\n",
      "    return cluster\n",
      "    \n",
      "idx = 2 # we know the 2nd sample is female    \n",
      "true_outlier_clusters = [add_outlier(cluster, idx) for cluster in true_clusters]\n",
      "false_outlier_clusters = [add_outlier(cluster, idx) for cluster in false_clusters]\n",
      "\n",
      "outlier_clusters = true_outlier_clusters + false_outlier_clusters\n",
      "\n",
      "fig, ax = plt.subplots(1)\n",
      "\n",
      "methods, models, kwargs = zip(*[\n",
      "    (zscore_cluster, formula,          dict(ax=ax, plot_kwargs=dict(color=colors[0], label=clean_methods[0]))),\n",
      "    (zscore_cluster, formula,          dict(ax=ax, plot_kwargs=dict(color=colors[1], label=clean_methods[1]), robust=True)),                                       \n",
      "    (gee_cluster, formula_cpg,         dict(ax=ax, plot_kwargs=dict(color=colors[2], label=clean_methods[2]))),\n",
      "    (ols_cluster_robust, formula_cpg,  dict(ax=ax, plot_kwargs=dict(color=colors[3], label=clean_methods[3]))),\n",
      "    (mixed_model_cluster, formula_cpg, dict(ax=ax, plot_kwargs=dict(color=colors[4], label=clean_methods[4]))),\n",
      "                                       ])\n",
      "\n",
      "oresults = [evaluate_method(outlier_clusters, nclusters, covs, model, coef, fn, pool=pool, kwargs=kw) \n",
      "                          for (fn, model, kw) in zip(methods, models, kwargs)]\n",
      "ax.set_xlim(0, 0.1)\n",
      "ax.legend(loc=\"best\")\n"
     ],
     "language": "python",
     "metadata": {},
     "outputs": [
      {
       "output_type": "stream",
       "stream": "stdout",
       "text": [
        "zscore_cluster {}\n",
        "zscore_cluster"
       ]
      },
      {
       "output_type": "stream",
       "stream": "stdout",
       "text": [
        " {'robust': True}\n",
        "gee_cluster"
       ]
      },
      {
       "output_type": "stream",
       "stream": "stdout",
       "text": [
        " {}\n",
        "ols_cluster_robust"
       ]
      },
      {
       "output_type": "stream",
       "stream": "stdout",
       "text": [
        " {}\n",
        "mixed_model_cluster"
       ]
      },
      {
       "output_type": "stream",
       "stream": "stdout",
       "text": [
        " {}\n"
       ]
      },
      {
       "metadata": {},
       "output_type": "pyout",
       "prompt_number": 20,
       "text": [
        "<matplotlib.legend.Legend at 0x2b8c01d31e10>"
       ]
      },
      {
       "metadata": {},
       "output_type": "display_data",
       "png": "[encoded data removed]",
       "text": [
        "<matplotlib.figure.Figure at 0x2b8c01bd2e90>"
       ]
      }
     ],
     "prompt_number": 20
    },
    {
     "cell_type": "code",
     "collapsed": false,
     "input": [
      "oresults = pd.DataFrame(oresults)\n",
      "# put data in long format\n",
      "oresults = pd.melt(oresults,\n",
      "        id_vars=[c for c in oresults.columns if not ('false' in c or 'true' in c)],\n",
      "        value_vars=[c for c in oresults.columns if 'false' in c or 'true' in\n",
      "            c], value_name='n_lt_alpha')\n",
      "oresults['alpha'] = [10**-int(x.split(\"_\")[1]) for x in oresults['variable']]\n",
      "oresults['truth'] = [x.split('_')[0] for x in oresults['variable']]\n",
      "_ = plot_alphas(oresults)"
     ],
     "language": "python",
     "metadata": {},
     "outputs": [
      {
       "metadata": {},
       "output_type": "display_data",
       "png": "[encoded data removed]",
       "text": [
        "<matplotlib.figure.Figure at 0x2b390517bf90>"
       ]
      }
     ],
     "prompt_number": 29
    },
    {
     "cell_type": "markdown",
     "metadata": {},
     "source": [
      "# Evaluate On Replication\n",
      "\n",
      "Now we will evaluate performance using the continuous variable 'age' by using a discovery and validation cohort randomly drawn from the full dataset. We will create the plots as above using sites that replicate in the validation as 'true' positives and sites that do not as 'false' positives. There are some issues with that interpretation in the context of an ROC analysis, but it is an informative metric becuase we often are interested in sites that will replicate across cohorts."
     ]
    },
    {
     "cell_type": "code",
     "collapsed": false,
     "input": [
      "np.random.seed(15)\n",
      "Nrep = 48\n",
      "# limit by gender ...\n",
      "F = covs_full.query('gender == \"F\"')\n",
      "M = covs_full.query('gender == \"M\"')\n",
      "# choose from Nrep / 8 to make sure we can get enough males and females.\n",
      "discovery_plates = np.random.choice(M.plate.unique(), Nrep / 8, replace=False)\n",
      "\n",
      "# then limit discovery cohort to come from same 2 plates\n",
      "disM = M[M.plate.isin(discovery_plates)]\n",
      "disF = F[F.plate.isin(discovery_plates)]\n",
      "\n",
      "# now get replication cohort from 2 plates not in the discovery_plates\n",
      "replication_plates = np.random.choice(np.setdiff1d(M.plate.unique(), discovery_plates), Nrep / 8, replace=False)\n",
      "repM = M[M.plate.isin(replication_plates)]\n",
      "repF = F[F.plate.isin(replication_plates)]\n",
      "\n",
      "discovery_covs = pd.concat((\n",
      "                  disF.ix[np.random.choice(disF.index, Nrep / 2, replace=False), :],\n",
      "                  disM.ix[np.random.choice(disM.index, Nrep / 2, replace=False), :]), axis=0)\n",
      "\n",
      "\n",
      "\n",
      "replication_covs = pd.concat((\n",
      "                  repF.ix[np.random.choice(repF.index, Nrep / 2, replace=False), :],\n",
      "                  repM.ix[np.random.choice(repM.index, Nrep / 2, replace=False), :]), axis=0)\n",
      "\n",
      "print discovery_covs.shape, replication_covs.shape\n",
      "assert not set(discovery_covs.index).intersection(replication_covs.index)\n",
      "\n",
      "assert replication_covs.id.value_counts().unique() == 1\n",
      "discovery_clusters = [c for c in get_cluster_iter(discovery_covs.index, 3)]"
     ],
     "language": "python",
     "metadata": {},
     "outputs": [
      {
       "ename": "ValueError",
       "evalue": "Cannot take a larger sample than population when 'replace=False'",
       "output_type": "pyerr",
       "traceback": [
        "\u001b[1;31m---------------------------------------------------------------------------\u001b[0m\n\u001b[1;31mValueError\u001b[0m                                Traceback (most recent call last)",
        "\u001b[1;32m<ipython-input-121-03d8120fb889>\u001b[0m in \u001b[0;36m<module>\u001b[1;34m()\u001b[0m\n\u001b[0;32m     17\u001b[0m \u001b[1;33m\u001b[0m\u001b[0m\n\u001b[0;32m     18\u001b[0m discovery_covs = pd.concat((\n\u001b[1;32m---> 19\u001b[1;33m                   \u001b[0mdisF\u001b[0m\u001b[1;33m.\u001b[0m\u001b[0mix\u001b[0m\u001b[1;33m[\u001b[0m\u001b[0mnp\u001b[0m\u001b[1;33m.\u001b[0m\u001b[0mrandom\u001b[0m\u001b[1;33m.\u001b[0m\u001b[0mchoice\u001b[0m\u001b[1;33m(\u001b[0m\u001b[0mdisF\u001b[0m\u001b[1;33m.\u001b[0m\u001b[0mindex\u001b[0m\u001b[1;33m,\u001b[0m \u001b[0mNrep\u001b[0m \u001b[1;33m/\u001b[0m \u001b[1;36m2\u001b[0m\u001b[1;33m,\u001b[0m \u001b[0mreplace\u001b[0m\u001b[1;33m=\u001b[0m\u001b[0mFalse\u001b[0m\u001b[1;33m)\u001b[0m\u001b[1;33m,\u001b[0m \u001b[1;33m:\u001b[0m\u001b[1;33m]\u001b[0m\u001b[1;33m,\u001b[0m\u001b[1;33m\u001b[0m\u001b[0m\n\u001b[0m\u001b[0;32m     20\u001b[0m                   disM.ix[np.random.choice(disM.index, Nrep / 2, replace=False), :]), axis=0)\n\u001b[0;32m     21\u001b[0m \u001b[1;33m\u001b[0m\u001b[0m\n",
        "\u001b[1;32m/usr/lib/python2.7/dist-packages/numpy/random/mtrand.so\u001b[0m in \u001b[0;36mmtrand.RandomState.choice (numpy/random/mtrand/mtrand.c:8348)\u001b[1;34m()\u001b[0m\n",
        "\u001b[1;31mValueError\u001b[0m: Cannot take a larger sample than population when 'replace=False'"
       ]
      }
     ],
     "prompt_number": 121
    },
    {
     "cell_type": "code",
     "collapsed": false,
     "input": [
      "# now we make sure that the discovery and replication have the same regions\n",
      "import crystal.regions\n",
      "\n",
      "def cluster_bedder(clusts):\n",
      "    for i, c in enumerate(clusts):\n",
      "        yield (c[0].chrom, str(c[0].position - 1), str(c[-1].position))\n",
      "\n",
      "feats = feature_gen(methylation_file, replication_covs.index)\n",
      "replication_clusters = list(crystal.regions.region_cluster_gen(feats, cluster_bedder(discovery_clusters)))"
     ],
     "language": "python",
     "metadata": {},
     "outputs": [],
     "prompt_number": 122
    },
    {
     "cell_type": "code",
     "collapsed": false,
     "input": [
      "coef = 'age'\n",
      "assert len(replication_clusters) == len(discovery_clusters)\n",
      "\n",
      "reps = [evaluate_replication(discovery_clusters, replication_clusters, \n",
      "                             discovery_covs, replication_covs, \n",
      "                             model + \" + plate\", coef, fn, pool=pool, kwargs=kw)\n",
      "                       for (fn, model, kw) in zip(methods, models, kwargs)]\n"
     ],
     "language": "python",
     "metadata": {},
     "outputs": [
      {
       "output_type": "stream",
       "stream": "stdout",
       "text": [
        "zscore_cluster\n",
        "liptak_cluster"
       ]
      },
      {
       "output_type": "stream",
       "stream": "stdout",
       "text": [
        "\n",
        "zscore_cluster"
       ]
      },
      {
       "output_type": "stream",
       "stream": "stdout",
       "text": [
        "\n",
        "liptak_cluster"
       ]
      },
      {
       "output_type": "stream",
       "stream": "stdout",
       "text": [
        "\n",
        "gee_cluster"
       ]
      },
      {
       "output_type": "stream",
       "stream": "stdout",
       "text": [
        "\n"
       ]
      },
      {
       "ename": "LinAlgError",
       "evalue": "Singular matrix",
       "output_type": "pyerr",
       "traceback": [
        "\u001b[1;31m---------------------------------------------------------------------------\u001b[0m\n\u001b[1;31mLinAlgError\u001b[0m                               Traceback (most recent call last)",
        "\u001b[1;32m<ipython-input-123-002ef35b3425>\u001b[0m in \u001b[0;36m<module>\u001b[1;34m()\u001b[0m\n\u001b[0;32m      5\u001b[0m                              \u001b[0mdiscovery_covs\u001b[0m\u001b[1;33m,\u001b[0m \u001b[0mreplication_covs\u001b[0m\u001b[1;33m,\u001b[0m\u001b[1;33m\u001b[0m\u001b[0m\n\u001b[0;32m      6\u001b[0m                              model + \" + plate\", coef, fn, pool=pool, kwargs=kw)\n\u001b[1;32m----> 7\u001b[1;33m                        for (fn, model, kw) in zip(methods, models, kwargs)]\n\u001b[0m",
        "\u001b[1;32m/usr/local/src/crystal/crystal/crystal.pyc\u001b[0m in \u001b[0;36mevaluate_replication\u001b[1;34m(discovery_clusters, replication_clusters, discovery_covs, replication_covs, formula, coef, model_fn, pool, kwargs)\u001b[0m\n\u001b[0;32m    352\u001b[0m \u001b[1;33m\u001b[0m\u001b[0m\n\u001b[0;32m    353\u001b[0m \u001b[1;33m\u001b[0m\u001b[0m\n\u001b[1;32m--> 354\u001b[1;33m     \u001b[0mdf\u001b[0m \u001b[1;33m=\u001b[0m \u001b[0mpd\u001b[0m\u001b[1;33m.\u001b[0m\u001b[0mread_table\u001b[0m\u001b[1;33m(\u001b[0m\u001b[1;34m'meth.clin.txt'\u001b[0m\u001b[1;33m)\u001b[0m\u001b[1;33m\u001b[0m\u001b[0m\n\u001b[0m\u001b[0;32m    355\u001b[0m     \u001b[0mdf\u001b[0m\u001b[1;33m[\u001b[0m\u001b[1;34m'id'\u001b[0m\u001b[1;33m]\u001b[0m \u001b[1;33m=\u001b[0m \u001b[0mdf\u001b[0m\u001b[1;33m[\u001b[0m\u001b[1;34m'StudyID'\u001b[0m\u001b[1;33m]\u001b[0m\u001b[1;33m\u001b[0m\u001b[0m\n\u001b[0;32m    356\u001b[0m     \u001b[0mformula\u001b[0m \u001b[1;33m=\u001b[0m \u001b[1;34m\"methylation ~ asthma + age + gender\"\u001b[0m\u001b[1;33m\u001b[0m\u001b[0m\n",
        "\u001b[1;32m/usr/local/src/crystal/crystal/crystal.pyc\u001b[0m in \u001b[0;36mmodel_clusters\u001b[1;34m(clust_iter, clin_df, formula, coef, model_fn, pool, n_cpu, **kwargs)\u001b[0m\n\u001b[0;32m    292\u001b[0m     for r in ts.pmap(wrapper, ((model_fn, formula, cluster, clin_df, coef,\n\u001b[0;32m    293\u001b[0m                                 kwargs) for cluster in clust_iter), n_cpu,\n\u001b[1;32m--> 294\u001b[1;33m                                 p=pool):\n\u001b[0m\u001b[0;32m    295\u001b[0m         \u001b[1;32myield\u001b[0m \u001b[0mr\u001b[0m\u001b[1;33m\u001b[0m\u001b[0m\n\u001b[0;32m    296\u001b[0m \u001b[1;33m\u001b[0m\u001b[0m\n",
        "\u001b[1;32m/usr/local/lib/python2.7/dist-packages/toolshed-0.4.1-py2.7.egg/toolshed/pool.pyc\u001b[0m in \u001b[0;36mpmap\u001b[1;34m(f, iterable, n, dummy, p)\u001b[0m\n\u001b[0;32m    100\u001b[0m \u001b[1;33m\u001b[0m\u001b[0m\n\u001b[0;32m    101\u001b[0m     \u001b[1;32mtry\u001b[0m\u001b[1;33m:\u001b[0m\u001b[1;33m\u001b[0m\u001b[0m\n\u001b[1;32m--> 102\u001b[1;33m         \u001b[1;32mfor\u001b[0m \u001b[0mr\u001b[0m \u001b[1;32min\u001b[0m \u001b[0mpo\u001b[0m\u001b[1;33m.\u001b[0m\u001b[0mimap\u001b[0m\u001b[1;33m(\u001b[0m\u001b[0mf\u001b[0m\u001b[1;33m,\u001b[0m \u001b[0miterable\u001b[0m\u001b[1;33m)\u001b[0m\u001b[1;33m:\u001b[0m\u001b[1;33m\u001b[0m\u001b[0m\n\u001b[0m\u001b[0;32m    103\u001b[0m             \u001b[1;32myield\u001b[0m \u001b[0mr\u001b[0m\u001b[1;33m\u001b[0m\u001b[0m\n\u001b[0;32m    104\u001b[0m \u001b[1;33m\u001b[0m\u001b[0m\n",
        "\u001b[1;32m/usr/local/lib/python2.7/dist-packages/toolshed-0.4.1-py2.7.egg/toolshed/pool.pyc\u001b[0m in \u001b[0;36mwrap\u001b[1;34m(self, timeout)\u001b[0m\n\u001b[0;32m     29\u001b[0m \u001b[1;32mdef\u001b[0m \u001b[0mwrapper\u001b[0m\u001b[1;33m(\u001b[0m\u001b[0mfunc\u001b[0m\u001b[1;33m)\u001b[0m\u001b[1;33m:\u001b[0m\u001b[1;33m\u001b[0m\u001b[0m\n\u001b[0;32m     30\u001b[0m     \u001b[1;32mdef\u001b[0m \u001b[0mwrap\u001b[0m\u001b[1;33m(\u001b[0m\u001b[0mself\u001b[0m\u001b[1;33m,\u001b[0m \u001b[0mtimeout\u001b[0m\u001b[1;33m=\u001b[0m\u001b[0mNone\u001b[0m\u001b[1;33m)\u001b[0m\u001b[1;33m:\u001b[0m\u001b[1;33m\u001b[0m\u001b[0m\n\u001b[1;32m---> 31\u001b[1;33m         \u001b[1;32mreturn\u001b[0m \u001b[0mfunc\u001b[0m\u001b[1;33m(\u001b[0m\u001b[0mself\u001b[0m\u001b[1;33m,\u001b[0m \u001b[0mtimeout\u001b[0m\u001b[1;33m=\u001b[0m\u001b[0mtimeout\u001b[0m \u001b[1;32mor\u001b[0m \u001b[1;36m1e10\u001b[0m\u001b[1;33m)\u001b[0m\u001b[1;33m\u001b[0m\u001b[0m\n\u001b[0m\u001b[0;32m     32\u001b[0m     \u001b[1;32mreturn\u001b[0m \u001b[0mwrap\u001b[0m\u001b[1;33m\u001b[0m\u001b[0m\n\u001b[0;32m     33\u001b[0m \u001b[1;32mimport\u001b[0m \u001b[0msys\u001b[0m\u001b[1;33m\u001b[0m\u001b[0m\n",
        "\u001b[1;32m/usr/lib/python2.7/multiprocessing/pool.pyc\u001b[0m in \u001b[0;36mnext\u001b[1;34m(self, timeout)\u001b[0m\n\u001b[0;32m    657\u001b[0m         \u001b[1;32mif\u001b[0m \u001b[0msuccess\u001b[0m\u001b[1;33m:\u001b[0m\u001b[1;33m\u001b[0m\u001b[0m\n\u001b[0;32m    658\u001b[0m             \u001b[1;32mreturn\u001b[0m \u001b[0mvalue\u001b[0m\u001b[1;33m\u001b[0m\u001b[0m\n\u001b[1;32m--> 659\u001b[1;33m         \u001b[1;32mraise\u001b[0m \u001b[0mvalue\u001b[0m\u001b[1;33m\u001b[0m\u001b[0m\n\u001b[0m\u001b[0;32m    660\u001b[0m \u001b[1;33m\u001b[0m\u001b[0m\n\u001b[0;32m    661\u001b[0m     \u001b[0m__next__\u001b[0m \u001b[1;33m=\u001b[0m \u001b[0mnext\u001b[0m                    \u001b[1;31m# XXX\u001b[0m\u001b[1;33m\u001b[0m\u001b[0m\n",
        "\u001b[1;31mLinAlgError\u001b[0m: Singular matrix"
       ]
      }
     ],
     "prompt_number": 123
    },
    {
     "cell_type": "code",
     "collapsed": false,
     "input": [
      "fig, ax = plt.subplots(1)\n",
      "\n",
      "for i in range(0, len(methods)):\n",
      "    if \"Liptak\" in clean_methods[i]:\n",
      "        continue\n",
      "    d, r = reps[i]['discovery_p'], reps[i]['replication_p']\n",
      "    print (r < 1e-2).sum(), r.shape\n",
      "    fpr, tpr, _ = roc_curve(d < 1e-2, r)\n",
      "    ax.plot(fpr[fpr < 0.2], tpr[fpr < 0.2], color=colors[i], label=clean_methods[i])\n",
      "    print clean_methods[i], reps[i]['method']\n",
      "    #print auc(fpr, tpr)\n",
      "ax.plot([0, 1], [0, 1], 'k--', alpha=0.5)\n",
      "ax.set_xlim(0, 0.2)\n",
      "ax.set_ylim(0, 0.2)\n",
      "ax.legend(loc='best')\n",
      "\n",
      "plt.figure()\n",
      "plt.plot(-np.log10(reps[1]['discovery_p']), -np.log10(reps[1]['replication_p']), 'r.')"
     ],
     "language": "python",
     "metadata": {},
     "outputs": []
    },
    {
     "cell_type": "code",
     "collapsed": false,
     "input": [
      "assert len(replication_clusters) == len(discovery_clusters)"
     ],
     "language": "python",
     "metadata": {},
     "outputs": []
    },
    {
     "cell_type": "code",
     "collapsed": false,
     "input": [
      "reps[0]['discovery_p']"
     ],
     "language": "python",
     "metadata": {},
     "outputs": [
      {
       "metadata": {},
       "output_type": "pyout",
       "prompt_number": 100,
       "text": [
        "array([ 0.76098041,  0.73672487,  0.2115546 , ...,  0.59698275,\n",
        "        0.88761598,  0.62755606])"
       ]
      }
     ],
     "prompt_number": 100
    },
    {
     "cell_type": "code",
     "collapsed": false,
     "input": [
      "reps[0]['replication_p']"
     ],
     "language": "python",
     "metadata": {},
     "outputs": [
      {
       "metadata": {},
       "output_type": "pyout",
       "prompt_number": 101,
       "text": [
        "array([ 0.80516006,  0.03560655,  0.76218456, ...,  0.29096513,\n",
        "        0.41025045,  0.52762694])"
       ]
      }
     ],
     "prompt_number": 101
    },
    {
     "cell_type": "code",
     "collapsed": false,
     "input": [
      "discovery_covs.gender.value_counts()"
     ],
     "language": "python",
     "metadata": {},
     "outputs": [
      {
       "metadata": {},
       "output_type": "pyout",
       "prompt_number": 103,
       "text": [
        "F    12\n",
        "M    12\n",
        "dtype: int64"
       ]
      }
     ],
     "prompt_number": 103
    },
    {
     "cell_type": "code",
     "collapsed": false,
     "input": [
      "trp"
     ],
     "language": "python",
     "metadata": {},
     "outputs": [
      {
       "ename": "NameError",
       "evalue": "name 'trp' is not defined",
       "output_type": "pyerr",
       "traceback": [
        "\u001b[1;31m---------------------------------------------------------------------------\u001b[0m\n\u001b[1;31mNameError\u001b[0m                                 Traceback (most recent call last)",
        "\u001b[1;32m<ipython-input-104-cfa326414481>\u001b[0m in \u001b[0;36m<module>\u001b[1;34m()\u001b[0m\n\u001b[1;32m----> 1\u001b[1;33m \u001b[0mtrp\u001b[0m\u001b[1;33m\u001b[0m\u001b[0m\n\u001b[0m",
        "\u001b[1;31mNameError\u001b[0m: name 'trp' is not defined"
       ]
      }
     ],
     "prompt_number": 104
    },
    {
     "cell_type": "code",
     "collapsed": false,
     "input": [
      "tpr"
     ],
     "language": "python",
     "metadata": {},
     "outputs": [
      {
       "metadata": {},
       "output_type": "pyout",
       "prompt_number": 105,
       "text": [
        "array([ 0.,  0.,  0., ...,  1.,  1.,  1.])"
       ]
      }
     ],
     "prompt_number": 105
    },
    {
     "cell_type": "code",
     "collapsed": false,
     "input": [
      "fpr"
     ],
     "language": "python",
     "metadata": {},
     "outputs": [
      {
       "metadata": {},
       "output_type": "pyout",
       "prompt_number": 106,
       "text": [
        "array([  0.00000000e+00,   2.48694355e-04,   4.97388709e-04, ...,\n",
        "         9.99502611e-01,   9.99751306e-01,   1.00000000e+00])"
       ]
      }
     ],
     "prompt_number": 106
    },
    {
     "cell_type": "code",
     "collapsed": false,
     "input": [
      "results.variable.unique()"
     ],
     "language": "python",
     "metadata": {},
     "outputs": [
      {
       "metadata": {},
       "output_type": "pyout",
       "prompt_number": 10,
       "text": [
        "array(['false_0', 'false_1', 'false_2', 'false_3', 'false_4', 'false_5',\n",
        "       'false_6', 'false_7', 'true-ps', 'true_0', 'true_1', 'true_2',\n",
        "       'true_3', 'true_4', 'true_5', 'true_6', 'true_7'], dtype=object)"
       ]
      }
     ],
     "prompt_number": 10
    },
    {
     "cell_type": "code",
     "collapsed": false,
     "input": [
      "[(x.split(\"_\")) for x in results['variable']]"
     ],
     "language": "python",
     "metadata": {},
     "outputs": [
      {
       "metadata": {},
       "output_type": "pyout",
       "prompt_number": 12,
       "text": [
        "[['false', '0'],\n",
        " ['false', '0'],\n",
        " ['false', '0'],\n",
        " ['false', '0'],\n",
        " ['false', '0'],\n",
        " ['false', '1'],\n",
        " ['false', '1'],\n",
        " ['false', '1'],\n",
        " ['false', '1'],\n",
        " ['false', '1'],\n",
        " ['false', '2'],\n",
        " ['false', '2'],\n",
        " ['false', '2'],\n",
        " ['false', '2'],\n",
        " ['false', '2'],\n",
        " ['false', '3'],\n",
        " ['false', '3'],\n",
        " ['false', '3'],\n",
        " ['false', '3'],\n",
        " ['false', '3'],\n",
        " ['false', '4'],\n",
        " ['false', '4'],\n",
        " ['false', '4'],\n",
        " ['false', '4'],\n",
        " ['false', '4'],\n",
        " ['false', '5'],\n",
        " ['false', '5'],\n",
        " ['false', '5'],\n",
        " ['false', '5'],\n",
        " ['false', '5'],\n",
        " ['false', '6'],\n",
        " ['false', '6'],\n",
        " ['false', '6'],\n",
        " ['false', '6'],\n",
        " ['false', '6'],\n",
        " ['false', '7'],\n",
        " ['false', '7'],\n",
        " ['false', '7'],\n",
        " ['false', '7'],\n",
        " ['false', '7'],\n",
        " ['true-ps'],\n",
        " ['true-ps'],\n",
        " ['true-ps'],\n",
        " ['true-ps'],\n",
        " ['true-ps'],\n",
        " ['true', '0'],\n",
        " ['true', '0'],\n",
        " ['true', '0'],\n",
        " ['true', '0'],\n",
        " ['true', '0'],\n",
        " ['true', '1'],\n",
        " ['true', '1'],\n",
        " ['true', '1'],\n",
        " ['true', '1'],\n",
        " ['true', '1'],\n",
        " ['true', '2'],\n",
        " ['true', '2'],\n",
        " ['true', '2'],\n",
        " ['true', '2'],\n",
        " ['true', '2'],\n",
        " ['true', '3'],\n",
        " ['true', '3'],\n",
        " ['true', '3'],\n",
        " ['true', '3'],\n",
        " ['true', '3'],\n",
        " ['true', '4'],\n",
        " ['true', '4'],\n",
        " ['true', '4'],\n",
        " ['true', '4'],\n",
        " ['true', '4'],\n",
        " ['true', '5'],\n",
        " ['true', '5'],\n",
        " ['true', '5'],\n",
        " ['true', '5'],\n",
        " ['true', '5'],\n",
        " ['true', '6'],\n",
        " ['true', '6'],\n",
        " ['true', '6'],\n",
        " ['true', '6'],\n",
        " ['true', '6'],\n",
        " ['true', '7'],\n",
        " ['true', '7'],\n",
        " ['true', '7'],\n",
        " ['true', '7'],\n",
        " ['true', '7']]"
       ]
      }
     ],
     "prompt_number": 12
    },
    {
     "cell_type": "code",
     "collapsed": false,
     "input": [],
     "language": "python",
     "metadata": {},
     "outputs": []
    }
   ],
   "metadata": {}
  }
 ]
}